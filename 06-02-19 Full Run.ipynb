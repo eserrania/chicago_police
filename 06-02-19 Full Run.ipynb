{
 "cells": [
  {
   "cell_type": "markdown",
   "metadata": {},
   "source": [
    "#  Project Progress Report\n",
    "## Andres Nigenda, Elias Serrania, Krista Chan"
   ]
  },
  {
   "cell_type": "markdown",
   "metadata": {},
   "source": [
    "**1. Updates in Data**\n",
    "\n",
    "There are no updates in the data sources we are using."
   ]
  },
  {
   "cell_type": "markdown",
   "metadata": {},
   "source": [
    "**2. Analysis you've done and results you're getting**\n",
    "\n",
    "We have made significant progress on our pipeline and written skeleton code which cleans the data, splits training and test sets, adds key features, and loops through different classifiers.\n",
    "\n",
    "Below, we test our pipeline using a few features and a single training and test set."
   ]
  },
  {
   "cell_type": "code",
   "execution_count": 72,
   "metadata": {},
   "outputs": [
    {
     "name": "stdout",
     "output_type": "stream",
     "text": [
      "The autoreload extension is already loaded. To reload it, use:\n",
      "  %reload_ext autoreload\n"
     ]
    }
   ],
   "source": [
    "%load_ext autoreload\n",
    "%autoreload 2\n",
    "\n",
    "import read_data as rd\n",
    "import train_test as tt\n",
    "import feature_generation as fg\n",
    "import ml_loop as ml\n",
    "import pandas as pd\n",
    "import numpy as np"
   ]
  },
  {
   "cell_type": "code",
   "execution_count": 130,
   "metadata": {},
   "outputs": [],
   "source": [
    "officerhistory_df = pd.read_csv('data/data_' + 'officerhistory' + '.csv')\n",
    "officerhistory_df = rd.create_df('officerhistory')"
   ]
  },
  {
   "cell_type": "code",
   "execution_count": 73,
   "metadata": {},
   "outputs": [],
   "source": [
    "trr_df = rd.create_df('trr_trr')\n",
    "officer_df = rd.create_df('officer')\n",
    "allegation_df = rd.create_df('allegation')\n",
    "investigator_df = rd.create_df('investigator')\n",
    "officerallegation_df = rd.create_df('officerallegation')\n",
    "investigatorallegation_df = rd.create_df('investigatorallegation')"
   ]
  },
  {
   "cell_type": "code",
   "execution_count": 74,
   "metadata": {},
   "outputs": [],
   "source": [
    "allegation_df, investigator_df = rd.merge_data(allegation_df, officerallegation_df, investigator_df, investigatorallegation_df)"
   ]
  },
  {
   "cell_type": "code",
   "execution_count": 75,
   "metadata": {},
   "outputs": [
    {
     "name": "stdout",
     "output_type": "stream",
     "text": [
      "Sets trained with 1 year(s) of data\n",
      "\n",
      "Training set 0 is trained from 2010-01-01 to 2010-12-31 to predict the outcome from 2011-01-01 to 2012-12-31 and tested on outcomes in 2013-01-01 to 2014-12-31\n",
      "Training set 1 is trained from 2010-01-01 to 2011-12-31 to predict the outcome from 2012-01-01 to 2013-12-31 and tested on outcomes in 2014-01-01 to 2015-12-31\n",
      "Training set 2 is trained from 2010-01-01 to 2012-12-30 to predict the outcome from 2012-12-31 to 2015-01-01 and tested on outcomes in 2015-01-02 to 2016-12-30\n",
      "Training set 3 is trained from 2010-01-01 to 2013-12-30 to predict the outcome from 2013-12-31 to 2016-01-01 and tested on outcomes in 2016-01-02 to 2017-12-30\n",
      "\n",
      "Sets trained with 2 year(s) of data\n",
      "\n",
      "Training set 4 is trained from 2010-01-01 to 2011-12-31 to predict the outcome from 2012-01-01 to 2013-12-31 and tested on outcomes in 2014-01-01 to 2015-12-31\n",
      "Training set 5 is trained from 2010-01-01 to 2012-12-30 to predict the outcome from 2012-12-31 to 2015-01-01 and tested on outcomes in 2015-01-02 to 2016-12-30\n",
      "Training set 6 is trained from 2010-01-01 to 2013-12-30 to predict the outcome from 2013-12-31 to 2016-01-01 and tested on outcomes in 2016-01-02 to 2017-12-30\n",
      "\n",
      "Sets trained with 3 year(s) of data\n",
      "\n",
      "Training set 7 is trained from 2010-01-01 to 2012-12-30 to predict the outcome from 2012-12-31 to 2015-01-01 and tested on outcomes in 2015-01-02 to 2016-12-30\n",
      "Training set 8 is trained from 2010-01-01 to 2013-12-30 to predict the outcome from 2013-12-31 to 2016-01-01 and tested on outcomes in 2016-01-02 to 2017-12-30\n",
      "\n",
      "Sets trained with 4 year(s) of data\n",
      "\n",
      "Training set 9 is trained from 2010-01-01 to 2013-12-30 to predict the outcome from 2013-12-31 to 2016-01-01 and tested on outcomes in 2016-01-02 to 2017-12-30\n",
      "\n"
     ]
    }
   ],
   "source": [
    "allegation_sets = tt.split_sets(allegation_df, np.timedelta64(2, 'Y'), 'incident_date', verbose=True)"
   ]
  },
  {
   "cell_type": "markdown",
   "metadata": {},
   "source": [
    "Below we select training set 7 to test our pipeline"
   ]
  },
  {
   "cell_type": "code",
   "execution_count": 111,
   "metadata": {},
   "outputs": [
    {
     "data": {
      "text/plain": [
       "dict_keys(['train', 'test', 'start_date_train', 'end_date_train', 'start_date_outcome', 'end_date_outcome', 'start_date_test', 'end_date_test', 'outcome_time'])"
      ]
     },
     "execution_count": 111,
     "metadata": {},
     "output_type": "execute_result"
    }
   ],
   "source": [
    "testing = allegation_sets[6]\n",
    "testing.keys()"
   ]
  },
  {
   "cell_type": "code",
   "execution_count": 112,
   "metadata": {},
   "outputs": [],
   "source": [
    "#training\n",
    "officer_df_train = officer_df.loc[(officer_df.appointed_date < testing.get('start_date_outcome')) & \\\n",
    "                            (officer_df.resignation_date >= testing.get('start_date_train'))]\n",
    "\n",
    "#testing\n",
    "officer_df_test = officer_df.loc[(officer_df.appointed_date < testing.get('start_date_test')) & \\\n",
    "                            (officer_df.resignation_date >= testing.get('start_date_train'))]"
   ]
  },
  {
   "cell_type": "code",
   "execution_count": 113,
   "metadata": {},
   "outputs": [],
   "source": [
    "# training\n",
    "added_features = fg.gen_allegation_features(\n",
    "    officer_df_train, testing.get('train'), testing.get('end_date_train'))\n",
    "added_features = fg.create_sustained_outcome(\n",
    "    officer_df_train, testing.get('train'), testing.get('end_date_train'))"
   ]
  },
  {
   "cell_type": "markdown",
   "metadata": {},
   "source": [
    "In our training set, we find that among 4056 officers, 2.6% of them had a sustained complaint in the outcome time frame. In the training time period, on average, each officer had 0.64 complaints, 3.7% of each officer's complaints were sustained, and 5.8% of each officer's complaints were filed by another police officer."
   ]
  },
  {
   "cell_type": "code",
   "execution_count": 114,
   "metadata": {},
   "outputs": [
    {
     "data": {
      "text/plain": [
       "0.019052271617000488"
      ]
     },
     "execution_count": 114,
     "metadata": {},
     "output_type": "execute_result"
    }
   ],
   "source": [
    "added_features.sustained_outcome.mean()"
   ]
  },
  {
   "cell_type": "code",
   "execution_count": 115,
   "metadata": {},
   "outputs": [
    {
     "data": {
      "text/plain": [
       "0.7598925256472887"
      ]
     },
     "execution_count": 115,
     "metadata": {},
     "output_type": "execute_result"
    }
   ],
   "source": [
    "added_features.number_complaints.mean()"
   ]
  },
  {
   "cell_type": "code",
   "execution_count": 116,
   "metadata": {},
   "outputs": [
    {
     "data": {
      "text/plain": [
       "0.04336676569886916"
      ]
     },
     "execution_count": 116,
     "metadata": {},
     "output_type": "execute_result"
    }
   ],
   "source": [
    "added_features.pct_sustained_complaints.mean()"
   ]
  },
  {
   "cell_type": "code",
   "execution_count": 117,
   "metadata": {},
   "outputs": [
    {
     "data": {
      "text/plain": [
       "0.06893968727573103"
      ]
     },
     "execution_count": 117,
     "metadata": {},
     "output_type": "execute_result"
    }
   ],
   "source": [
    "added_features.pct_officer_complaints.mean()"
   ]
  },
  {
   "cell_type": "code",
   "execution_count": 118,
   "metadata": {},
   "outputs": [
    {
     "data": {
      "text/plain": [
       "4094"
      ]
     },
     "execution_count": 118,
     "metadata": {},
     "output_type": "execute_result"
    }
   ],
   "source": [
    "added_features.id.nunique()"
   ]
  },
  {
   "cell_type": "code",
   "execution_count": 119,
   "metadata": {},
   "outputs": [],
   "source": [
    "forml = added_features.dropna()"
   ]
  },
  {
   "cell_type": "code",
   "execution_count": 120,
   "metadata": {},
   "outputs": [],
   "source": [
    "# testing\n",
    "added_features_test = fg.gen_allegation_features(\n",
    "    officer_df_test, testing.get('test'), testing.get('end_date_outcome'))\n",
    "added_features_test = fg.create_sustained_outcome(\n",
    "    officer_df_test, testing.get('train'), testing.get('end_date_outcome'))"
   ]
  },
  {
   "cell_type": "code",
   "execution_count": 121,
   "metadata": {},
   "outputs": [],
   "source": [
    "testl = added_features_test.dropna()"
   ]
  },
  {
   "cell_type": "code",
   "execution_count": 122,
   "metadata": {},
   "outputs": [
    {
     "data": {
      "text/plain": [
       "Index(['id', 'gender', 'race', 'appointed_date', 'rank', 'active',\n",
       "       'birth_year', 'resignation_date', 'current_badge', 'current_salary',\n",
       "       'last_unit_id', 'number_complaints', 'pct_officer_complaints',\n",
       "       'pct_sustained_complaints', 'sustained_outcome'],\n",
       "      dtype='object')"
      ]
     },
     "execution_count": 122,
     "metadata": {},
     "output_type": "execute_result"
    }
   ],
   "source": [
    "testl.columns"
   ]
  },
  {
   "cell_type": "code",
   "execution_count": 123,
   "metadata": {},
   "outputs": [],
   "source": [
    "testl.drop(columns=['gender', 'race', 'appointed_date', 'rank', 'active',\n",
    "       'birth_year', 'resignation_date', 'current_badge', 'last_unit_id'], inplace=True)\n",
    "forml.drop(columns=['gender', 'race', 'appointed_date', 'rank', 'active',\n",
    "       'birth_year', 'resignation_date', 'current_badge', 'last_unit_id'], inplace=True)"
   ]
  },
  {
   "cell_type": "code",
   "execution_count": 124,
   "metadata": {},
   "outputs": [
    {
     "data": {
      "text/plain": [
       "[{'train':           id  current_salary  number_complaints  pct_officer_complaints  \\\n",
       "  5      32395        102900.0                  0                0.000000   \n",
       "  6      31966         99978.0                  0                0.000000   \n",
       "  8      32102         99978.0                  0                0.000000   \n",
       "  626    32074        102900.0                  1                0.000000   \n",
       "  661    15636         99978.0                  0                0.000000   \n",
       "  688    31942        102900.0                  0                0.000000   \n",
       "  748      377         97080.0                  0                0.000000   \n",
       "  773     2735         97080.0                  0                0.000000   \n",
       "  840    13065        188316.0                  1                1.000000   \n",
       "  842    31842         99978.0                  2                0.000000   \n",
       "  866    24948         99978.0                  0                0.000000   \n",
       "  2480    3279         97044.0                  2                0.000000   \n",
       "  2481   24941         84756.0                  6                0.000000   \n",
       "  2491   19144         99978.0                  4                0.000000   \n",
       "  2493   30627         90540.0                  2                0.000000   \n",
       "  2498    7226         90540.0                  6                0.000000   \n",
       "  2500     178         90540.0                  0                0.000000   \n",
       "  2503   11918         89646.0                  1                1.000000   \n",
       "  2504    3026         96084.0                  6                0.166667   \n",
       "  2524    6664         90540.0                  0                0.000000   \n",
       "  2528    2485         87918.0                  1                0.000000   \n",
       "  2533   25373         90540.0                  2                0.000000   \n",
       "  2557   25876         76764.0                  0                0.000000   \n",
       "  2559   24431         84756.0                 19                0.157895   \n",
       "  2560    4254         95178.0                  0                0.000000   \n",
       "  2582   14154         87918.0                  3                0.333333   \n",
       "  2603   24817         97080.0                  3                0.000000   \n",
       "  2656   19389         99978.0                  4                0.250000   \n",
       "  2667   14962         81090.0                  3                0.000000   \n",
       "  2668   15956         99978.0                  2                0.000000   \n",
       "  ...      ...             ...                ...                     ...   \n",
       "  33673  17546         90540.0                  1                0.000000   \n",
       "  33675   9090         89646.0                  0                0.000000   \n",
       "  33678  29878         99978.0                  0                0.000000   \n",
       "  33684   6546         87888.0                  0                0.000000   \n",
       "  33687  11382         89646.0                  1                0.000000   \n",
       "  33688  25817         90540.0                  0                0.000000   \n",
       "  33689  21376         90540.0                  1                0.000000   \n",
       "  33690  21558         90540.0                  0                0.000000   \n",
       "  33691   2428         99978.0                  0                0.000000   \n",
       "  33699    581         99978.0                  0                0.000000   \n",
       "  33713   1184        154932.0                  0                0.000000   \n",
       "  33716  10875        154932.0                  0                0.000000   \n",
       "  33720  10687        154932.0                  1                1.000000   \n",
       "  33723  31355        123948.0                  0                0.000000   \n",
       "  33726  30564        154932.0                  0                0.000000   \n",
       "  33736  24356        154932.0                  0                0.000000   \n",
       "  33737  20959        154932.0                  1                1.000000   \n",
       "  33738  25186        162684.0                  1                0.000000   \n",
       "  33749  10442        154932.0                  0                0.000000   \n",
       "  33750  19808        123948.0                  0                0.000000   \n",
       "  33752  14231        154932.0                  0                0.000000   \n",
       "  33775  14494        125790.0                  0                0.000000   \n",
       "  33776  27334        154932.0                  0                0.000000   \n",
       "  33785  10222        154992.0                  0                0.000000   \n",
       "  33791   3965        154932.0                  2                1.000000   \n",
       "  33795   7923        154932.0                  0                0.000000   \n",
       "  33797   8734        162684.0                  0                0.000000   \n",
       "  33803  15339        154932.0                  0                0.000000   \n",
       "  33836  32398        162684.0                  0                0.000000   \n",
       "  33838  32368        162684.0                  0                0.000000   \n",
       "  \n",
       "         pct_sustained_complaints  sustained_outcome  \n",
       "  5                      0.000000                  0  \n",
       "  6                      0.000000                  0  \n",
       "  8                      0.000000                  0  \n",
       "  626                    0.000000                  0  \n",
       "  661                    0.000000                  0  \n",
       "  688                    0.000000                  0  \n",
       "  748                    0.000000                  0  \n",
       "  773                    0.000000                  0  \n",
       "  840                    0.000000                  0  \n",
       "  842                    0.000000                  1  \n",
       "  866                    0.000000                  0  \n",
       "  2480                   0.000000                  0  \n",
       "  2481                   0.000000                  0  \n",
       "  2491                   0.000000                  0  \n",
       "  2493                   0.000000                  0  \n",
       "  2498                   0.000000                  0  \n",
       "  2500                   0.000000                  0  \n",
       "  2503                   0.000000                  0  \n",
       "  2504                   0.000000                  0  \n",
       "  2524                   0.000000                  0  \n",
       "  2528                   0.000000                  0  \n",
       "  2533                   0.000000                  0  \n",
       "  2557                   0.000000                  0  \n",
       "  2559                   0.105263                  0  \n",
       "  2560                   0.000000                  0  \n",
       "  2582                   0.000000                  0  \n",
       "  2603                   0.000000                  0  \n",
       "  2656                   0.000000                  0  \n",
       "  2667                   0.000000                  0  \n",
       "  2668                   0.000000                  0  \n",
       "  ...                         ...                ...  \n",
       "  33673                  0.000000                  0  \n",
       "  33675                  0.000000                  0  \n",
       "  33678                  0.000000                  0  \n",
       "  33684                  0.000000                  0  \n",
       "  33687                  0.000000                  0  \n",
       "  33688                  0.000000                  0  \n",
       "  33689                  0.000000                  0  \n",
       "  33690                  0.000000                  0  \n",
       "  33691                  0.000000                  0  \n",
       "  33699                  0.000000                  0  \n",
       "  33713                  0.000000                  0  \n",
       "  33716                  0.000000                  0  \n",
       "  33720                  0.000000                  0  \n",
       "  33723                  0.000000                  0  \n",
       "  33726                  0.000000                  0  \n",
       "  33736                  0.000000                  0  \n",
       "  33737                  0.000000                  0  \n",
       "  33738                  0.000000                  0  \n",
       "  33749                  0.000000                  0  \n",
       "  33750                  0.000000                  0  \n",
       "  33752                  0.000000                  0  \n",
       "  33775                  0.000000                  0  \n",
       "  33776                  0.000000                  1  \n",
       "  33785                  0.000000                  0  \n",
       "  33791                  0.500000                  0  \n",
       "  33795                  0.000000                  0  \n",
       "  33797                  0.000000                  0  \n",
       "  33803                  0.000000                  0  \n",
       "  33836                  0.000000                  0  \n",
       "  33838                  0.000000                  0  \n",
       "  \n",
       "  [2135 rows x 6 columns],\n",
       "  'test':           id  current_salary  number_complaints  pct_officer_complaints  \\\n",
       "  5      32395        102900.0                  0                     0.0   \n",
       "  6      31966         99978.0                  0                     0.0   \n",
       "  8      32102         99978.0                  0                     0.0   \n",
       "  626    32074        102900.0                  0                     0.0   \n",
       "  661    15636         99978.0                  0                     0.0   \n",
       "  688    31942        102900.0                  0                     0.0   \n",
       "  748      377         97080.0                  0                     0.0   \n",
       "  773     2735         97080.0                  0                     0.0   \n",
       "  840    13065        188316.0                  0                     0.0   \n",
       "  842    31842         99978.0                  0                     0.0   \n",
       "  866    24948         99978.0                  0                     0.0   \n",
       "  2480    3279         97044.0                  0                     0.0   \n",
       "  2481   24941         84756.0                  0                     0.0   \n",
       "  2491   19144         99978.0                  0                     0.0   \n",
       "  2493   30627         90540.0                  0                     0.0   \n",
       "  2498    7226         90540.0                  0                     0.0   \n",
       "  2500     178         90540.0                  0                     0.0   \n",
       "  2503   11918         89646.0                  0                     0.0   \n",
       "  2504    3026         96084.0                  0                     0.0   \n",
       "  2524    6664         90540.0                  0                     0.0   \n",
       "  2528    2485         87918.0                  0                     0.0   \n",
       "  2533   25373         90540.0                  0                     0.0   \n",
       "  2557   25876         76764.0                  0                     0.0   \n",
       "  2559   24431         84756.0                  0                     0.0   \n",
       "  2560    4254         95178.0                  0                     0.0   \n",
       "  2582   14154         87918.0                  0                     0.0   \n",
       "  2603   24817         97080.0                  0                     0.0   \n",
       "  2656   19389         99978.0                  0                     0.0   \n",
       "  2667   14962         81090.0                  0                     0.0   \n",
       "  2668   15956         99978.0                  0                     0.0   \n",
       "  ...      ...             ...                ...                     ...   \n",
       "  33673  17546         90540.0                  0                     0.0   \n",
       "  33675   9090         89646.0                  0                     0.0   \n",
       "  33678  29878         99978.0                  0                     0.0   \n",
       "  33684   6546         87888.0                  0                     0.0   \n",
       "  33687  11382         89646.0                  0                     0.0   \n",
       "  33688  25817         90540.0                  0                     0.0   \n",
       "  33689  21376         90540.0                  0                     0.0   \n",
       "  33690  21558         90540.0                  0                     0.0   \n",
       "  33691   2428         99978.0                  0                     0.0   \n",
       "  33699    581         99978.0                  0                     0.0   \n",
       "  33713   1184        154932.0                  0                     0.0   \n",
       "  33716  10875        154932.0                  0                     0.0   \n",
       "  33720  10687        154932.0                  0                     0.0   \n",
       "  33723  31355        123948.0                  0                     0.0   \n",
       "  33726  30564        154932.0                  0                     0.0   \n",
       "  33736  24356        154932.0                  0                     0.0   \n",
       "  33737  20959        154932.0                  0                     0.0   \n",
       "  33738  25186        162684.0                  0                     0.0   \n",
       "  33749  10442        154932.0                  0                     0.0   \n",
       "  33750  19808        123948.0                  0                     0.0   \n",
       "  33752  14231        154932.0                  0                     0.0   \n",
       "  33775  14494        125790.0                  0                     0.0   \n",
       "  33776  27334        154932.0                  0                     0.0   \n",
       "  33785  10222        154992.0                  0                     0.0   \n",
       "  33791   3965        154932.0                  0                     0.0   \n",
       "  33795   7923        154932.0                  0                     0.0   \n",
       "  33797   8734        162684.0                  0                     0.0   \n",
       "  33803  15339        154932.0                  0                     0.0   \n",
       "  33836  32398        162684.0                  0                     0.0   \n",
       "  33838  32368        162684.0                  0                     0.0   \n",
       "  \n",
       "         pct_sustained_complaints  sustained_outcome  \n",
       "  5                           0.0                  0  \n",
       "  6                           0.0                  0  \n",
       "  8                           0.0                  0  \n",
       "  626                         0.0                  0  \n",
       "  661                         0.0                  0  \n",
       "  688                         0.0                  0  \n",
       "  748                         0.0                  0  \n",
       "  773                         0.0                  0  \n",
       "  840                         0.0                  0  \n",
       "  842                         0.0                  0  \n",
       "  866                         0.0                  0  \n",
       "  2480                        0.0                  0  \n",
       "  2481                        0.0                  0  \n",
       "  2491                        0.0                  0  \n",
       "  2493                        0.0                  0  \n",
       "  2498                        0.0                  0  \n",
       "  2500                        0.0                  0  \n",
       "  2503                        0.0                  0  \n",
       "  2504                        0.0                  0  \n",
       "  2524                        0.0                  0  \n",
       "  2528                        0.0                  0  \n",
       "  2533                        0.0                  0  \n",
       "  2557                        0.0                  0  \n",
       "  2559                        0.0                  0  \n",
       "  2560                        0.0                  0  \n",
       "  2582                        0.0                  0  \n",
       "  2603                        0.0                  0  \n",
       "  2656                        0.0                  0  \n",
       "  2667                        0.0                  0  \n",
       "  2668                        0.0                  0  \n",
       "  ...                         ...                ...  \n",
       "  33673                       0.0                  0  \n",
       "  33675                       0.0                  0  \n",
       "  33678                       0.0                  0  \n",
       "  33684                       0.0                  0  \n",
       "  33687                       0.0                  0  \n",
       "  33688                       0.0                  0  \n",
       "  33689                       0.0                  0  \n",
       "  33690                       0.0                  0  \n",
       "  33691                       0.0                  0  \n",
       "  33699                       0.0                  0  \n",
       "  33713                       0.0                  0  \n",
       "  33716                       0.0                  0  \n",
       "  33720                       0.0                  0  \n",
       "  33723                       0.0                  0  \n",
       "  33726                       0.0                  0  \n",
       "  33736                       0.0                  0  \n",
       "  33737                       0.0                  0  \n",
       "  33738                       0.0                  0  \n",
       "  33749                       0.0                  0  \n",
       "  33750                       0.0                  0  \n",
       "  33752                       0.0                  0  \n",
       "  33775                       0.0                  0  \n",
       "  33776                       0.0                  0  \n",
       "  33785                       0.0                  0  \n",
       "  33791                       0.0                  0  \n",
       "  33795                       0.0                  0  \n",
       "  33797                       0.0                  0  \n",
       "  33803                       0.0                  0  \n",
       "  33836                       0.0                  0  \n",
       "  33838                       0.0                  0  \n",
       "  \n",
       "  [2140 rows x 6 columns],\n",
       "  'start_date_train': Timestamp('2010-01-01 00:00:00'),\n",
       "  'end_date_train': Timestamp('2013-12-30 23:16:48'),\n",
       "  'start_date_outcome': Timestamp('2013-12-31 23:16:48'),\n",
       "  'end_date_outcome': Timestamp('2016-01-01 10:55:12'),\n",
       "  'start_date_test': Timestamp('2016-01-02 10:55:12'),\n",
       "  'end_date_test': Timestamp('2017-12-30 22:33:36'),\n",
       "  'outcome_time': numpy.timedelta64(2,'Y')}]"
      ]
     },
     "execution_count": 124,
     "metadata": {},
     "output_type": "execute_result"
    }
   ],
   "source": [
    "testing['train'] = forml\n",
    "testing['test'] = testl\n",
    "\n",
    "temp_lst = [testing]\n",
    "temp_lst"
   ]
  },
  {
   "cell_type": "markdown",
   "metadata": {},
   "source": [
    "Below, we determine recall on a variety of classifiers using this training and test set. As expected, due to the few features we included, recall is very low for all models."
   ]
  },
  {
   "cell_type": "code",
   "execution_count": 125,
   "metadata": {},
   "outputs": [],
   "source": [
    "# Model parameters\n",
    "GRID = 'test'\n",
    "CLFRS_TO_RUN = ['RandomForest']\n",
    "LABEL = 'sustained_outcome'\n",
    "\n",
    "# Metrics and thresholds\n",
    "METRIC_DICT = {'precision': [100, 5, 20, 50, 80],\n",
    "               'recall': [100, 5, 20, 50, 80],\n",
    "               'f1': [5],\n",
    "               'accuracy': [50]}\n",
    "METRICS = 'pop'\n",
    "\n",
    "# Other lists\n",
    "preds_drop = [] + [LABEL]"
   ]
  },
  {
   "cell_type": "code",
   "execution_count": 126,
   "metadata": {},
   "outputs": [
    {
     "name": "stdout",
     "output_type": "stream",
     "text": [
      "*****************\n",
      "61 0\n",
      "** Working on the RandomForest classifier RandomForestClassifier(bootstrap=True, class_weight=None, criterion='gini',\n",
      "            max_depth=5, max_features='auto', max_leaf_nodes=None,\n",
      "            min_impurity_decrease=0.0, min_impurity_split=None,\n",
      "            min_samples_leaf=1, min_samples_split=5,\n",
      "            min_weight_fraction_leaf=0.0, n_estimators=10, n_jobs=-1,\n",
      "            oob_score=False, random_state=1992, verbose=0,\n",
      "            warm_start=False) with parameters {'max_depth': 5, 'min_samples_split': 5, 'n_estimators': 10, 'n_jobs': -1, 'random_state': 1992}.\n",
      "* Training from 2010-01-01 00:00:00 to 2013-12-30 23:16:48 and testing from 2016-01-02 10:55:12 to 2017-12-30 22:33:36.\n"
     ]
    },
    {
     "name": "stderr",
     "output_type": "stream",
     "text": [
      "/Library/Frameworks/Python.framework/Versions/3.7/lib/python3.7/site-packages/sklearn/metrics/classification.py:1145: UndefinedMetricWarning: Recall is ill-defined and being set to 0.0 due to no true samples.\n",
      "  'recall', 'true', average, warn_for)\n",
      "/Library/Frameworks/Python.framework/Versions/3.7/lib/python3.7/site-packages/sklearn/metrics/classification.py:1145: UndefinedMetricWarning: F-score is ill-defined and being set to 0.0 due to no true samples.\n",
      "  'recall', 'true', average, warn_for)\n",
      "/Library/Frameworks/Python.framework/Versions/3.7/lib/python3.7/site-packages/sklearn/metrics/ranking.py:526: RuntimeWarning: invalid value encountered in true_divide\n",
      "  recall = tps / tps[-1]\n"
     ]
    },
    {
     "data": {
      "text/plain": [
       "<Figure size 432x288 with 0 Axes>"
      ]
     },
     "metadata": {},
     "output_type": "display_data"
    },
    {
     "data": {
      "image/png": "[encoded data removed]",
      "text/plain": [
       "<Figure size 432x288 with 2 Axes>"
      ]
     },
     "metadata": {
      "needs_background": "light"
     },
     "output_type": "display_data"
    }
   ],
   "source": [
    "res_df = ml.classifier_loop(temp_lst, GRID, CLFRS_TO_RUN, METRIC_DICT, LABEL, preds_drop,\n",
    "                            METRICS, plot=True, save=False)"
   ]
  },
  {
   "cell_type": "code",
   "execution_count": 99,
   "metadata": {},
   "outputs": [
    {
     "data": {
      "text/html": [
       "<div>\n",
       "<style scoped>\n",
       "    .dataframe tbody tr th:only-of-type {\n",
       "        vertical-align: middle;\n",
       "    }\n",
       "\n",
       "    .dataframe tbody tr th {\n",
       "        vertical-align: top;\n",
       "    }\n",
       "\n",
       "    .dataframe thead th {\n",
       "        text-align: right;\n",
       "    }\n",
       "</style>\n",
       "<table border=\"1\" class=\"dataframe\">\n",
       "  <thead>\n",
       "    <tr style=\"text-align: right;\">\n",
       "      <th></th>\n",
       "      <th>model</th>\n",
       "      <th>importances</th>\n",
       "      <th>parameters</th>\n",
       "      <th>set</th>\n",
       "      <th>train_start</th>\n",
       "      <th>train_end</th>\n",
       "      <th>test_start</th>\n",
       "      <th>test_end</th>\n",
       "      <th>precision_at_100</th>\n",
       "      <th>precision_at_5</th>\n",
       "      <th>precision_at_20</th>\n",
       "      <th>precision_at_50</th>\n",
       "      <th>precision_at_80</th>\n",
       "      <th>recall_at_100</th>\n",
       "      <th>recall_at_5</th>\n",
       "      <th>recall_at_20</th>\n",
       "      <th>recall_at_50</th>\n",
       "      <th>recall_at_80</th>\n",
       "      <th>f1_at_5</th>\n",
       "      <th>accuracy_at_50</th>\n",
       "    </tr>\n",
       "  </thead>\n",
       "  <tbody>\n",
       "    <tr>\n",
       "      <th>0</th>\n",
       "      <td>RandomForest</td>\n",
       "      <td>[0.34201790668043464, 0.25577050400514667, 0.1...</td>\n",
       "      <td>{'max_depth': 5, 'min_samples_split': 5, 'n_es...</td>\n",
       "      <td>0</td>\n",
       "      <td>2010-01-01</td>\n",
       "      <td>2012-12-30 17:27:36</td>\n",
       "      <td>2015-01-02 05:06:00</td>\n",
       "      <td>2016-12-30 16:44:24</td>\n",
       "      <td>0.0</td>\n",
       "      <td>0.0</td>\n",
       "      <td>0.0</td>\n",
       "      <td>0.0</td>\n",
       "      <td>0.0</td>\n",
       "      <td>0.0</td>\n",
       "      <td>0.0</td>\n",
       "      <td>0.0</td>\n",
       "      <td>0.0</td>\n",
       "      <td>0.0</td>\n",
       "      <td>0.0</td>\n",
       "      <td>0.500234</td>\n",
       "    </tr>\n",
       "  </tbody>\n",
       "</table>\n",
       "</div>"
      ],
      "text/plain": [
       "          model                                        importances  \\\n",
       "0  RandomForest  [0.34201790668043464, 0.25577050400514667, 0.1...   \n",
       "\n",
       "                                          parameters set train_start  \\\n",
       "0  {'max_depth': 5, 'min_samples_split': 5, 'n_es...   0  2010-01-01   \n",
       "\n",
       "            train_end          test_start            test_end  \\\n",
       "0 2012-12-30 17:27:36 2015-01-02 05:06:00 2016-12-30 16:44:24   \n",
       "\n",
       "   precision_at_100  precision_at_5  precision_at_20  precision_at_50  \\\n",
       "0               0.0             0.0              0.0              0.0   \n",
       "\n",
       "   precision_at_80  recall_at_100  recall_at_5  recall_at_20  recall_at_50  \\\n",
       "0              0.0            0.0          0.0           0.0           0.0   \n",
       "\n",
       "   recall_at_80  f1_at_5  accuracy_at_50  \n",
       "0           0.0      0.0        0.500234  "
      ]
     },
     "execution_count": 99,
     "metadata": {},
     "output_type": "execute_result"
    }
   ],
   "source": [
    "res_df"
   ]
  },
  {
   "cell_type": "markdown",
   "metadata": {},
   "source": [
    "**3. Changes in scope**\n",
    "\n",
    "For our project, we will be creating two outcome variables and testing the effect of network features on both outcomes. The first outcome is whether or not a police officer is involved in the use of a firearm over the next two years. The next outcome is whether or not a police officer has a sustained investigation over the next two years. While our overarching policy goal is to determine whether or not network features have an influence on police officers using unjust force in order to inform journalistic investigation, we do not have a perfect proxy for this outcome, and therefore are using these two outcome variables to better inform the interpretation of our results."
   ]
  }
 ],
 "metadata": {
  "kernelspec": {
   "display_name": "Python 3",
   "language": "python",
   "name": "python3"
  },
  "language_info": {
   "codemirror_mode": {
    "name": "ipython",
    "version": 3
   },
   "file_extension": ".py",
   "mimetype": "text/x-python",
   "name": "python",
   "nbconvert_exporter": "python",
   "pygments_lexer": "ipython3",
   "version": "3.7.3"
  }
 },
 "nbformat": 4,
 "nbformat_minor": 2
}
