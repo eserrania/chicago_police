{
 "cells": [
  {
   "cell_type": "markdown",
   "metadata": {},
   "source": [
    "#  Project Progress Report\n",
    "## Andres Nigenda, Elias Serrania, Krista Chan"
   ]
  },
  {
   "cell_type": "markdown",
   "metadata": {},
   "source": [
    "**1. Updates in Data**\n",
    "\n",
    "There are no updates in the data sources we are using."
   ]
  },
  {
   "cell_type": "markdown",
   "metadata": {},
   "source": [
    "**2. Analysis you've done and results you're getting**\n",
    "\n",
    "We have made significant progress on our pipeline and written skeleton code which cleans the data, splits training and test sets, adds key features, and loops through different classifiers.\n",
    "\n",
    "Below, we test our pipeline using a few features and a single training and test set."
   ]
  },
  {
   "cell_type": "code",
   "execution_count": 1,
   "metadata": {},
   "outputs": [],
   "source": [
    "import read_data as rd\n",
    "import train_test as tt\n",
    "import feature_generation as fg\n",
    "import ml_loop as ml\n",
    "import pandas as pd\n",
    "import numpy as np"
   ]
  },
  {
   "cell_type": "code",
   "execution_count": 2,
   "metadata": {},
   "outputs": [],
   "source": [
    "officer_df = rd.create_df('officer')\n",
    "allegation_df = rd.create_df('allegation')\n",
    "officerallegation_df = rd.create_df('officerallegation')"
   ]
  },
  {
   "cell_type": "code",
   "execution_count": 3,
   "metadata": {},
   "outputs": [],
   "source": [
    "allegation_df = allegation_df.merge(officerallegation_df, left_on='crid', right_on='allegation_id')"
   ]
  },
  {
   "cell_type": "code",
   "execution_count": 4,
   "metadata": {},
   "outputs": [
    {
     "name": "stdout",
     "output_type": "stream",
     "text": [
      "Sets trained with 1 year(s) of data\n",
      "\n",
      "Training set 0 is trained from 2010-01-01 to 2010-12-31 to predict the outcome from 2011-01-01 to 2012-12-31 and tested on outcomes in 2013-01-01 to 2014-12-31\n",
      "Training set 1 is trained from 2010-01-01 to 2011-12-31 to predict the outcome from 2012-01-01 to 2013-12-31 and tested on outcomes in 2014-01-01 to 2015-12-31\n",
      "Training set 2 is trained from 2010-01-01 to 2012-12-30 to predict the outcome from 2012-12-31 to 2015-01-01 and tested on outcomes in 2015-01-02 to 2016-12-30\n",
      "Training set 3 is trained from 2010-01-01 to 2013-12-30 to predict the outcome from 2013-12-31 to 2016-01-01 and tested on outcomes in 2016-01-02 to 2017-12-30\n",
      "\n",
      "Sets trained with 2 year(s) of data\n",
      "\n",
      "Training set 4 is trained from 2010-01-01 to 2011-12-31 to predict the outcome from 2012-01-01 to 2013-12-31 and tested on outcomes in 2014-01-01 to 2015-12-31\n",
      "Training set 5 is trained from 2010-01-01 to 2012-12-30 to predict the outcome from 2012-12-31 to 2015-01-01 and tested on outcomes in 2015-01-02 to 2016-12-30\n",
      "Training set 6 is trained from 2010-01-01 to 2013-12-30 to predict the outcome from 2013-12-31 to 2016-01-01 and tested on outcomes in 2016-01-02 to 2017-12-30\n",
      "\n",
      "Sets trained with 3 year(s) of data\n",
      "\n",
      "Training set 7 is trained from 2010-01-01 to 2012-12-30 to predict the outcome from 2012-12-31 to 2015-01-01 and tested on outcomes in 2015-01-02 to 2016-12-30\n",
      "Training set 8 is trained from 2010-01-01 to 2013-12-30 to predict the outcome from 2013-12-31 to 2016-01-01 and tested on outcomes in 2016-01-02 to 2017-12-30\n",
      "\n",
      "Sets trained with 4 year(s) of data\n",
      "\n",
      "Training set 9 is trained from 2010-01-01 to 2013-12-30 to predict the outcome from 2013-12-31 to 2016-01-01 and tested on outcomes in 2016-01-02 to 2017-12-30\n",
      "\n"
     ]
    }
   ],
   "source": [
    "allegation_sets = tt.split_sets(allegation_df, np.timedelta64(2, 'Y'), 'incident_date', verbose=True)"
   ]
  },
  {
   "cell_type": "markdown",
   "metadata": {},
   "source": [
    "Below we select training set 7 to test our pipeline"
   ]
  },
  {
   "cell_type": "code",
   "execution_count": 5,
   "metadata": {},
   "outputs": [
    {
     "data": {
      "text/plain": [
       "dict_keys(['train', 'test', 'start_date_train', 'end_date_train', 'start_date_outcome', 'end_date_outcome', 'start_date_test', 'end_date_test', 'outcome_time'])"
      ]
     },
     "execution_count": 5,
     "metadata": {},
     "output_type": "execute_result"
    }
   ],
   "source": [
    "testing = allegation_sets[7]\n",
    "testing.keys()"
   ]
  },
  {
   "cell_type": "code",
   "execution_count": 6,
   "metadata": {},
   "outputs": [],
   "source": [
    "#training\n",
    "officer_df_train = officer_df.loc[(officer_df.appointed_date < testing.get('start_date_outcome')) & \\\n",
    "                            (officer_df.resignation_date >= testing.get('start_date_train'))]\n",
    "\n",
    "#testing\n",
    "officer_df_test = officer_df.loc[(officer_df.appointed_date < testing.get('start_date_test')) & \\\n",
    "                            (officer_df.resignation_date >= testing.get('start_date_train'))]"
   ]
  },
  {
   "cell_type": "code",
   "execution_count": 7,
   "metadata": {},
   "outputs": [],
   "source": [
    "# training\n",
    "added_features = fg.gen_allegation_features(\n",
    "    officer_df_train, testing.get('train'), testing.get('end_date_train'))\n",
    "added_features = fg.create_sustained_outcome(\n",
    "    officer_df_train, testing.get('train'), testing.get('end_date_train'))"
   ]
  },
  {
   "cell_type": "markdown",
   "metadata": {},
   "source": [
    "In our training set, we find that among 4056 officers, 2.6% of them had a sustained complaint in the outcome time frame. In the training time period, on average, each officer had 0.64 complaints, 3.7% of each officer's complaints were sustained, and 5.8% of each officer's complaints were filed by another police officer."
   ]
  },
  {
   "cell_type": "code",
   "execution_count": 8,
   "metadata": {},
   "outputs": [
    {
     "data": {
      "text/plain": [
       "0.02638067061143984"
      ]
     },
     "execution_count": 8,
     "metadata": {},
     "output_type": "execute_result"
    }
   ],
   "source": [
    "added_features.sustained_outcome.mean()"
   ]
  },
  {
   "cell_type": "code",
   "execution_count": 9,
   "metadata": {},
   "outputs": [
    {
     "data": {
      "text/plain": [
       "0.6380670611439843"
      ]
     },
     "execution_count": 9,
     "metadata": {},
     "output_type": "execute_result"
    }
   ],
   "source": [
    "added_features.number_complaints.mean()"
   ]
  },
  {
   "cell_type": "code",
   "execution_count": 10,
   "metadata": {},
   "outputs": [
    {
     "data": {
      "text/plain": [
       "0.037048790864774986"
      ]
     },
     "execution_count": 10,
     "metadata": {},
     "output_type": "execute_result"
    }
   ],
   "source": [
    "added_features.pct_sustained_complaints.mean()"
   ]
  },
  {
   "cell_type": "code",
   "execution_count": 11,
   "metadata": {},
   "outputs": [
    {
     "data": {
      "text/plain": [
       "0.05799846517399461"
      ]
     },
     "execution_count": 11,
     "metadata": {},
     "output_type": "execute_result"
    }
   ],
   "source": [
    "added_features.pct_officer_complaints.mean()"
   ]
  },
  {
   "cell_type": "code",
   "execution_count": 12,
   "metadata": {},
   "outputs": [
    {
     "data": {
      "text/plain": [
       "4056"
      ]
     },
     "execution_count": 12,
     "metadata": {},
     "output_type": "execute_result"
    }
   ],
   "source": [
    "added_features.id.nunique()"
   ]
  },
  {
   "cell_type": "code",
   "execution_count": 13,
   "metadata": {},
   "outputs": [],
   "source": [
    "forml = added_features.dropna()"
   ]
  },
  {
   "cell_type": "code",
   "execution_count": 14,
   "metadata": {},
   "outputs": [],
   "source": [
    "# testing\n",
    "added_features_test = fg.gen_allegation_features(\n",
    "    officer_df_test, testing.get('test'), testing.get('end_date_outcome'))\n",
    "added_features_test = fg.create_sustained_outcome(\n",
    "    officer_df_test, testing.get('train'), testing.get('end_date_outcome'))"
   ]
  },
  {
   "cell_type": "code",
   "execution_count": 15,
   "metadata": {},
   "outputs": [],
   "source": [
    "testl = added_features_test.dropna()"
   ]
  },
  {
   "cell_type": "code",
   "execution_count": 16,
   "metadata": {},
   "outputs": [
    {
     "data": {
      "text/plain": [
       "Index(['id', 'gender', 'race', 'appointed_date', 'rank', 'active',\n",
       "       'birth_year', 'resignation_date', 'current_badge', 'current_salary',\n",
       "       'last_unit_id', 'number_complaints', 'pct_officer_complaints',\n",
       "       'pct_sustained_complaints', 'sustained_outcome'],\n",
       "      dtype='object')"
      ]
     },
     "execution_count": 16,
     "metadata": {},
     "output_type": "execute_result"
    }
   ],
   "source": [
    "testl.columns"
   ]
  },
  {
   "cell_type": "code",
   "execution_count": 17,
   "metadata": {},
   "outputs": [],
   "source": [
    "testl.drop(columns=['gender', 'race', 'appointed_date', 'rank', 'active',\n",
    "       'birth_year', 'resignation_date', 'current_badge', 'last_unit_id'], inplace=True)\n",
    "forml.drop(columns=['gender', 'race', 'appointed_date', 'rank', 'active',\n",
    "       'birth_year', 'resignation_date', 'current_badge', 'last_unit_id'], inplace=True)"
   ]
  },
  {
   "cell_type": "code",
   "execution_count": 18,
   "metadata": {},
   "outputs": [],
   "source": [
    "testing['train'] = forml\n",
    "testing['test'] = testl\n",
    "\n",
    "tt = [testing]"
   ]
  },
  {
   "cell_type": "markdown",
   "metadata": {},
   "source": [
    "Below, we determine recall on a variety of classifiers using this training and test set. As expected, due to the few features we included, recall is very low for all models."
   ]
  },
  {
   "cell_type": "code",
   "execution_count": 19,
   "metadata": {},
   "outputs": [
    {
     "name": "stdout",
     "output_type": "stream",
     "text": [
      "Working on the RandomForest classifier:\n",
      "*** with parameters {'max_depth': 5, 'max_features': 'sqrt', 'min_samples_split': 2, 'n_estimators': 100, 'n_jobs': -1}\n",
      "Training from 2010-01-01 to 2012-12-30 to predict the outcome from 2012-12-31 to 2015-01-01 and testing on outcomes from  2015-01-02 to 2016-12-30\n"
     ]
    },
    {
     "name": "stderr",
     "output_type": "stream",
     "text": [
      "C:\\ProgramData\\Anaconda3\\lib\\site-packages\\sklearn\\metrics\\classification.py:1145: UndefinedMetricWarning: Recall is ill-defined and being set to 0.0 due to no true samples.\n",
      "  'recall', 'true', average, warn_for)\n",
      "C:\\ProgramData\\Anaconda3\\lib\\site-packages\\sklearn\\metrics\\classification.py:1145: UndefinedMetricWarning: Recall is ill-defined and being set to 0.0 due to no true samples.\n",
      "  'recall', 'true', average, warn_for)\n",
      "C:\\ProgramData\\Anaconda3\\lib\\site-packages\\sklearn\\metrics\\classification.py:1145: UndefinedMetricWarning: Recall is ill-defined and being set to 0.0 due to no true samples.\n",
      "  'recall', 'true', average, warn_for)\n",
      "C:\\ProgramData\\Anaconda3\\lib\\site-packages\\sklearn\\metrics\\classification.py:1145: UndefinedMetricWarning: Recall is ill-defined and being set to 0.0 due to no true samples.\n",
      "  'recall', 'true', average, warn_for)\n",
      "C:\\ProgramData\\Anaconda3\\lib\\site-packages\\sklearn\\metrics\\classification.py:1145: UndefinedMetricWarning: Recall is ill-defined and being set to 0.0 due to no true samples.\n",
      "  'recall', 'true', average, warn_for)\n",
      "C:\\ProgramData\\Anaconda3\\lib\\site-packages\\sklearn\\metrics\\classification.py:1145: UndefinedMetricWarning: Recall is ill-defined and being set to 0.0 due to no true samples.\n",
      "  'recall', 'true', average, warn_for)\n",
      "C:\\ProgramData\\Anaconda3\\lib\\site-packages\\sklearn\\metrics\\classification.py:1145: UndefinedMetricWarning: Recall is ill-defined and being set to 0.0 due to no true samples.\n",
      "  'recall', 'true', average, warn_for)\n"
     ]
    },
    {
     "name": "stdout",
     "output_type": "stream",
     "text": [
      "**** Model recall is 0.0\n",
      "Working on the DecisionTree classifier:\n",
      "*** with parameters {'criterion': 'gini', 'max_depth': 1, 'max_features': None, 'min_samples_split': 2}\n",
      "Training from 2010-01-01 to 2012-12-30 to predict the outcome from 2012-12-31 to 2015-01-01 and testing on outcomes from  2015-01-02 to 2016-12-30\n",
      "**** Model recall is 0.0\n",
      "*** with parameters {'criterion': 'gini', 'max_depth': 1, 'max_features': None, 'min_samples_split': 5}\n",
      "Training from 2010-01-01 to 2012-12-30 to predict the outcome from 2012-12-31 to 2015-01-01 and testing on outcomes from  2015-01-02 to 2016-12-30\n",
      "**** Model recall is 0.0\n",
      "*** with parameters {'criterion': 'gini', 'max_depth': 1, 'max_features': None, 'min_samples_split': 10}\n",
      "Training from 2010-01-01 to 2012-12-30 to predict the outcome from 2012-12-31 to 2015-01-01 and testing on outcomes from  2015-01-02 to 2016-12-30\n",
      "**** Model recall is 0.0\n",
      "*** with parameters {'criterion': 'gini', 'max_depth': 1, 'max_features': 'sqrt', 'min_samples_split': 2}\n",
      "Training from 2010-01-01 to 2012-12-30 to predict the outcome from 2012-12-31 to 2015-01-01 and testing on outcomes from  2015-01-02 to 2016-12-30\n",
      "**** Model recall is 0.0\n",
      "*** with parameters {'criterion': 'gini', 'max_depth': 1, 'max_features': 'sqrt', 'min_samples_split': 5}\n",
      "Training from 2010-01-01 to 2012-12-30 to predict the outcome from 2012-12-31 to 2015-01-01 and testing on outcomes from  2015-01-02 to 2016-12-30\n",
      "**** Model recall is 0.0\n",
      "*** with parameters {'criterion': 'gini', 'max_depth': 1, 'max_features': 'sqrt', 'min_samples_split': 10}\n",
      "Training from 2010-01-01 to 2012-12-30 to predict the outcome from 2012-12-31 to 2015-01-01 and testing on outcomes from  2015-01-02 to 2016-12-30\n",
      "**** Model recall is 0.0\n",
      "*** with parameters {'criterion': 'gini', 'max_depth': 1, 'max_features': 'log2', 'min_samples_split': 2}\n",
      "Training from 2010-01-01 to 2012-12-30 to predict the outcome from 2012-12-31 to 2015-01-01 and testing on outcomes from  2015-01-02 to 2016-12-30\n",
      "**** Model recall is 0.0\n",
      "*** with parameters {'criterion': 'gini', 'max_depth': 1, 'max_features': 'log2', 'min_samples_split': 5}\n",
      "Training from 2010-01-01 to 2012-12-30 to predict the outcome from 2012-12-31 to 2015-01-01 and testing on outcomes from  2015-01-02 to 2016-12-30\n",
      "**** Model recall is 0.0\n",
      "*** with parameters {'criterion': 'gini', 'max_depth': 1, 'max_features': 'log2', 'min_samples_split': 10}\n",
      "Training from 2010-01-01 to 2012-12-30 to predict the outcome from 2012-12-31 to 2015-01-01 and testing on outcomes from  2015-01-02 to 2016-12-30\n",
      "**** Model recall is 0.0\n",
      "*** with parameters {'criterion': 'gini', 'max_depth': 5, 'max_features': None, 'min_samples_split': 2}\n",
      "Training from 2010-01-01 to 2012-12-30 to predict the outcome from 2012-12-31 to 2015-01-01 and testing on outcomes from  2015-01-02 to 2016-12-30\n",
      "**** Model recall is 0.0\n",
      "*** with parameters {'criterion': 'gini', 'max_depth': 5, 'max_features': None, 'min_samples_split': 5}\n",
      "Training from 2010-01-01 to 2012-12-30 to predict the outcome from 2012-12-31 to 2015-01-01 and testing on outcomes from  2015-01-02 to 2016-12-30\n",
      "**** Model recall is 0.0\n",
      "*** with parameters {'criterion': 'gini', 'max_depth': 5, 'max_features': None, 'min_samples_split': 10}\n",
      "Training from 2010-01-01 to 2012-12-30 to predict the outcome from 2012-12-31 to 2015-01-01 and testing on outcomes from  2015-01-02 to 2016-12-30\n",
      "**** Model recall is 0.0\n",
      "*** with parameters {'criterion': 'gini', 'max_depth': 5, 'max_features': 'sqrt', 'min_samples_split': 2}\n",
      "Training from 2010-01-01 to 2012-12-30 to predict the outcome from 2012-12-31 to 2015-01-01 and testing on outcomes from  2015-01-02 to 2016-12-30\n",
      "**** Model recall is 0.0\n",
      "*** with parameters {'criterion': 'gini', 'max_depth': 5, 'max_features': 'sqrt', 'min_samples_split': 5}\n",
      "Training from 2010-01-01 to 2012-12-30 to predict the outcome from 2012-12-31 to 2015-01-01 and testing on outcomes from  2015-01-02 to 2016-12-30\n"
     ]
    },
    {
     "name": "stderr",
     "output_type": "stream",
     "text": [
      "C:\\ProgramData\\Anaconda3\\lib\\site-packages\\sklearn\\metrics\\classification.py:1145: UndefinedMetricWarning: Recall is ill-defined and being set to 0.0 due to no true samples.\n",
      "  'recall', 'true', average, warn_for)\n",
      "C:\\ProgramData\\Anaconda3\\lib\\site-packages\\sklearn\\metrics\\classification.py:1145: UndefinedMetricWarning: Recall is ill-defined and being set to 0.0 due to no true samples.\n",
      "  'recall', 'true', average, warn_for)\n",
      "C:\\ProgramData\\Anaconda3\\lib\\site-packages\\sklearn\\metrics\\classification.py:1145: UndefinedMetricWarning: Recall is ill-defined and being set to 0.0 due to no true samples.\n",
      "  'recall', 'true', average, warn_for)\n",
      "C:\\ProgramData\\Anaconda3\\lib\\site-packages\\sklearn\\metrics\\classification.py:1145: UndefinedMetricWarning: Recall is ill-defined and being set to 0.0 due to no true samples.\n",
      "  'recall', 'true', average, warn_for)\n",
      "C:\\ProgramData\\Anaconda3\\lib\\site-packages\\sklearn\\metrics\\classification.py:1145: UndefinedMetricWarning: Recall is ill-defined and being set to 0.0 due to no true samples.\n",
      "  'recall', 'true', average, warn_for)\n"
     ]
    },
    {
     "name": "stdout",
     "output_type": "stream",
     "text": [
      "**** Model recall is 0.0\n",
      "*** with parameters {'criterion': 'gini', 'max_depth': 5, 'max_features': 'sqrt', 'min_samples_split': 10}\n",
      "Training from 2010-01-01 to 2012-12-30 to predict the outcome from 2012-12-31 to 2015-01-01 and testing on outcomes from  2015-01-02 to 2016-12-30\n",
      "**** Model recall is 0.0\n",
      "*** with parameters {'criterion': 'gini', 'max_depth': 5, 'max_features': 'log2', 'min_samples_split': 2}\n",
      "Training from 2010-01-01 to 2012-12-30 to predict the outcome from 2012-12-31 to 2015-01-01 and testing on outcomes from  2015-01-02 to 2016-12-30\n",
      "**** Model recall is 0.0\n",
      "*** with parameters {'criterion': 'gini', 'max_depth': 5, 'max_features': 'log2', 'min_samples_split': 5}\n",
      "Training from 2010-01-01 to 2012-12-30 to predict the outcome from 2012-12-31 to 2015-01-01 and testing on outcomes from  2015-01-02 to 2016-12-30\n",
      "**** Model recall is 0.0\n",
      "*** with parameters {'criterion': 'gini', 'max_depth': 5, 'max_features': 'log2', 'min_samples_split': 10}\n",
      "Training from 2010-01-01 to 2012-12-30 to predict the outcome from 2012-12-31 to 2015-01-01 and testing on outcomes from  2015-01-02 to 2016-12-30\n",
      "**** Model recall is 0.0\n",
      "*** with parameters {'criterion': 'gini', 'max_depth': 10, 'max_features': None, 'min_samples_split': 2}\n",
      "Training from 2010-01-01 to 2012-12-30 to predict the outcome from 2012-12-31 to 2015-01-01 and testing on outcomes from  2015-01-02 to 2016-12-30\n"
     ]
    },
    {
     "name": "stderr",
     "output_type": "stream",
     "text": [
      "C:\\ProgramData\\Anaconda3\\lib\\site-packages\\sklearn\\metrics\\classification.py:1145: UndefinedMetricWarning: Recall is ill-defined and being set to 0.0 due to no true samples.\n",
      "  'recall', 'true', average, warn_for)\n",
      "C:\\ProgramData\\Anaconda3\\lib\\site-packages\\sklearn\\metrics\\classification.py:1145: UndefinedMetricWarning: Recall is ill-defined and being set to 0.0 due to no true samples.\n",
      "  'recall', 'true', average, warn_for)\n",
      "C:\\ProgramData\\Anaconda3\\lib\\site-packages\\sklearn\\metrics\\classification.py:1145: UndefinedMetricWarning: Recall is ill-defined and being set to 0.0 due to no true samples.\n",
      "  'recall', 'true', average, warn_for)\n",
      "C:\\ProgramData\\Anaconda3\\lib\\site-packages\\sklearn\\metrics\\classification.py:1145: UndefinedMetricWarning: Recall is ill-defined and being set to 0.0 due to no true samples.\n",
      "  'recall', 'true', average, warn_for)\n",
      "C:\\ProgramData\\Anaconda3\\lib\\site-packages\\sklearn\\metrics\\classification.py:1145: UndefinedMetricWarning: Recall is ill-defined and being set to 0.0 due to no true samples.\n",
      "  'recall', 'true', average, warn_for)\n"
     ]
    },
    {
     "name": "stdout",
     "output_type": "stream",
     "text": [
      "**** Model recall is 0.0\n",
      "*** with parameters {'criterion': 'gini', 'max_depth': 10, 'max_features': None, 'min_samples_split': 5}\n",
      "Training from 2010-01-01 to 2012-12-30 to predict the outcome from 2012-12-31 to 2015-01-01 and testing on outcomes from  2015-01-02 to 2016-12-30\n",
      "**** Model recall is 0.0\n",
      "*** with parameters {'criterion': 'gini', 'max_depth': 10, 'max_features': None, 'min_samples_split': 10}\n",
      "Training from 2010-01-01 to 2012-12-30 to predict the outcome from 2012-12-31 to 2015-01-01 and testing on outcomes from  2015-01-02 to 2016-12-30\n",
      "**** Model recall is 0.0\n",
      "*** with parameters {'criterion': 'gini', 'max_depth': 10, 'max_features': 'sqrt', 'min_samples_split': 2}\n",
      "Training from 2010-01-01 to 2012-12-30 to predict the outcome from 2012-12-31 to 2015-01-01 and testing on outcomes from  2015-01-02 to 2016-12-30\n",
      "**** Model recall is 0.0\n",
      "*** with parameters {'criterion': 'gini', 'max_depth': 10, 'max_features': 'sqrt', 'min_samples_split': 5}\n",
      "Training from 2010-01-01 to 2012-12-30 to predict the outcome from 2012-12-31 to 2015-01-01 and testing on outcomes from  2015-01-02 to 2016-12-30\n"
     ]
    },
    {
     "name": "stderr",
     "output_type": "stream",
     "text": [
      "C:\\ProgramData\\Anaconda3\\lib\\site-packages\\sklearn\\metrics\\classification.py:1145: UndefinedMetricWarning: Recall is ill-defined and being set to 0.0 due to no true samples.\n",
      "  'recall', 'true', average, warn_for)\n",
      "C:\\ProgramData\\Anaconda3\\lib\\site-packages\\sklearn\\metrics\\classification.py:1145: UndefinedMetricWarning: Recall is ill-defined and being set to 0.0 due to no true samples.\n",
      "  'recall', 'true', average, warn_for)\n",
      "C:\\ProgramData\\Anaconda3\\lib\\site-packages\\sklearn\\metrics\\classification.py:1145: UndefinedMetricWarning: Recall is ill-defined and being set to 0.0 due to no true samples.\n",
      "  'recall', 'true', average, warn_for)\n",
      "C:\\ProgramData\\Anaconda3\\lib\\site-packages\\sklearn\\metrics\\classification.py:1145: UndefinedMetricWarning: Recall is ill-defined and being set to 0.0 due to no true samples.\n",
      "  'recall', 'true', average, warn_for)\n"
     ]
    },
    {
     "name": "stdout",
     "output_type": "stream",
     "text": [
      "**** Model recall is 0.0\n",
      "*** with parameters {'criterion': 'gini', 'max_depth': 10, 'max_features': 'sqrt', 'min_samples_split': 10}\n",
      "Training from 2010-01-01 to 2012-12-30 to predict the outcome from 2012-12-31 to 2015-01-01 and testing on outcomes from  2015-01-02 to 2016-12-30\n",
      "**** Model recall is 0.0\n",
      "*** with parameters {'criterion': 'gini', 'max_depth': 10, 'max_features': 'log2', 'min_samples_split': 2}\n",
      "Training from 2010-01-01 to 2012-12-30 to predict the outcome from 2012-12-31 to 2015-01-01 and testing on outcomes from  2015-01-02 to 2016-12-30\n",
      "**** Model recall is 0.0\n",
      "*** with parameters {'criterion': 'gini', 'max_depth': 10, 'max_features': 'log2', 'min_samples_split': 5}\n",
      "Training from 2010-01-01 to 2012-12-30 to predict the outcome from 2012-12-31 to 2015-01-01 and testing on outcomes from  2015-01-02 to 2016-12-30\n",
      "**** Model recall is 0.0\n",
      "*** with parameters {'criterion': 'gini', 'max_depth': 10, 'max_features': 'log2', 'min_samples_split': 10}\n",
      "Training from 2010-01-01 to 2012-12-30 to predict the outcome from 2012-12-31 to 2015-01-01 and testing on outcomes from  2015-01-02 to 2016-12-30\n",
      "**** Model recall is 0.0\n",
      "*** with parameters {'criterion': 'gini', 'max_depth': 20, 'max_features': None, 'min_samples_split': 2}\n",
      "Training from 2010-01-01 to 2012-12-30 to predict the outcome from 2012-12-31 to 2015-01-01 and testing on outcomes from  2015-01-02 to 2016-12-30\n"
     ]
    },
    {
     "name": "stderr",
     "output_type": "stream",
     "text": [
      "C:\\ProgramData\\Anaconda3\\lib\\site-packages\\sklearn\\metrics\\classification.py:1145: UndefinedMetricWarning: Recall is ill-defined and being set to 0.0 due to no true samples.\n",
      "  'recall', 'true', average, warn_for)\n",
      "C:\\ProgramData\\Anaconda3\\lib\\site-packages\\sklearn\\metrics\\classification.py:1145: UndefinedMetricWarning: Recall is ill-defined and being set to 0.0 due to no true samples.\n",
      "  'recall', 'true', average, warn_for)\n",
      "C:\\ProgramData\\Anaconda3\\lib\\site-packages\\sklearn\\metrics\\classification.py:1145: UndefinedMetricWarning: Recall is ill-defined and being set to 0.0 due to no true samples.\n",
      "  'recall', 'true', average, warn_for)\n",
      "C:\\ProgramData\\Anaconda3\\lib\\site-packages\\sklearn\\metrics\\classification.py:1145: UndefinedMetricWarning: Recall is ill-defined and being set to 0.0 due to no true samples.\n",
      "  'recall', 'true', average, warn_for)\n",
      "C:\\ProgramData\\Anaconda3\\lib\\site-packages\\sklearn\\metrics\\classification.py:1145: UndefinedMetricWarning: Recall is ill-defined and being set to 0.0 due to no true samples.\n",
      "  'recall', 'true', average, warn_for)\n"
     ]
    },
    {
     "name": "stdout",
     "output_type": "stream",
     "text": [
      "**** Model recall is 0.0\n",
      "*** with parameters {'criterion': 'gini', 'max_depth': 20, 'max_features': None, 'min_samples_split': 5}\n",
      "Training from 2010-01-01 to 2012-12-30 to predict the outcome from 2012-12-31 to 2015-01-01 and testing on outcomes from  2015-01-02 to 2016-12-30\n",
      "**** Model recall is 0.0\n",
      "*** with parameters {'criterion': 'gini', 'max_depth': 20, 'max_features': None, 'min_samples_split': 10}\n",
      "Training from 2010-01-01 to 2012-12-30 to predict the outcome from 2012-12-31 to 2015-01-01 and testing on outcomes from  2015-01-02 to 2016-12-30\n",
      "**** Model recall is 0.0\n",
      "*** with parameters {'criterion': 'gini', 'max_depth': 20, 'max_features': 'sqrt', 'min_samples_split': 2}\n",
      "Training from 2010-01-01 to 2012-12-30 to predict the outcome from 2012-12-31 to 2015-01-01 and testing on outcomes from  2015-01-02 to 2016-12-30\n",
      "**** Model recall is 0.0\n",
      "*** with parameters {'criterion': 'gini', 'max_depth': 20, 'max_features': 'sqrt', 'min_samples_split': 5}\n",
      "Training from 2010-01-01 to 2012-12-30 to predict the outcome from 2012-12-31 to 2015-01-01 and testing on outcomes from  2015-01-02 to 2016-12-30\n",
      "**** Model recall is 0.0\n",
      "*** with parameters {'criterion': 'gini', 'max_depth': 20, 'max_features': 'sqrt', 'min_samples_split': 10}\n",
      "Training from 2010-01-01 to 2012-12-30 to predict the outcome from 2012-12-31 to 2015-01-01 and testing on outcomes from  2015-01-02 to 2016-12-30\n"
     ]
    },
    {
     "name": "stderr",
     "output_type": "stream",
     "text": [
      "C:\\ProgramData\\Anaconda3\\lib\\site-packages\\sklearn\\metrics\\classification.py:1145: UndefinedMetricWarning: Recall is ill-defined and being set to 0.0 due to no true samples.\n",
      "  'recall', 'true', average, warn_for)\n",
      "C:\\ProgramData\\Anaconda3\\lib\\site-packages\\sklearn\\metrics\\classification.py:1145: UndefinedMetricWarning: Recall is ill-defined and being set to 0.0 due to no true samples.\n",
      "  'recall', 'true', average, warn_for)\n",
      "C:\\ProgramData\\Anaconda3\\lib\\site-packages\\sklearn\\metrics\\classification.py:1145: UndefinedMetricWarning: Recall is ill-defined and being set to 0.0 due to no true samples.\n",
      "  'recall', 'true', average, warn_for)\n",
      "C:\\ProgramData\\Anaconda3\\lib\\site-packages\\sklearn\\metrics\\classification.py:1145: UndefinedMetricWarning: Recall is ill-defined and being set to 0.0 due to no true samples.\n",
      "  'recall', 'true', average, warn_for)\n",
      "C:\\ProgramData\\Anaconda3\\lib\\site-packages\\sklearn\\metrics\\classification.py:1145: UndefinedMetricWarning: Recall is ill-defined and being set to 0.0 due to no true samples.\n",
      "  'recall', 'true', average, warn_for)\n",
      "C:\\ProgramData\\Anaconda3\\lib\\site-packages\\sklearn\\metrics\\classification.py:1145: UndefinedMetricWarning: Recall is ill-defined and being set to 0.0 due to no true samples.\n",
      "  'recall', 'true', average, warn_for)\n"
     ]
    },
    {
     "name": "stdout",
     "output_type": "stream",
     "text": [
      "**** Model recall is 0.0\n",
      "*** with parameters {'criterion': 'gini', 'max_depth': 20, 'max_features': 'log2', 'min_samples_split': 2}\n",
      "Training from 2010-01-01 to 2012-12-30 to predict the outcome from 2012-12-31 to 2015-01-01 and testing on outcomes from  2015-01-02 to 2016-12-30\n",
      "**** Model recall is 0.0\n",
      "*** with parameters {'criterion': 'gini', 'max_depth': 20, 'max_features': 'log2', 'min_samples_split': 5}\n",
      "Training from 2010-01-01 to 2012-12-30 to predict the outcome from 2012-12-31 to 2015-01-01 and testing on outcomes from  2015-01-02 to 2016-12-30\n",
      "**** Model recall is 0.0\n",
      "*** with parameters {'criterion': 'gini', 'max_depth': 20, 'max_features': 'log2', 'min_samples_split': 10}\n",
      "Training from 2010-01-01 to 2012-12-30 to predict the outcome from 2012-12-31 to 2015-01-01 and testing on outcomes from  2015-01-02 to 2016-12-30\n",
      "**** Model recall is 0.0\n",
      "*** with parameters {'criterion': 'gini', 'max_depth': 50, 'max_features': None, 'min_samples_split': 2}\n",
      "Training from 2010-01-01 to 2012-12-30 to predict the outcome from 2012-12-31 to 2015-01-01 and testing on outcomes from  2015-01-02 to 2016-12-30\n",
      "**** Model recall is 0.0\n",
      "*** with parameters {'criterion': 'gini', 'max_depth': 50, 'max_features': None, 'min_samples_split': 5}\n",
      "Training from 2010-01-01 to 2012-12-30 to predict the outcome from 2012-12-31 to 2015-01-01 and testing on outcomes from  2015-01-02 to 2016-12-30\n"
     ]
    },
    {
     "name": "stderr",
     "output_type": "stream",
     "text": [
      "C:\\ProgramData\\Anaconda3\\lib\\site-packages\\sklearn\\metrics\\classification.py:1145: UndefinedMetricWarning: Recall is ill-defined and being set to 0.0 due to no true samples.\n",
      "  'recall', 'true', average, warn_for)\n",
      "C:\\ProgramData\\Anaconda3\\lib\\site-packages\\sklearn\\metrics\\classification.py:1145: UndefinedMetricWarning: Recall is ill-defined and being set to 0.0 due to no true samples.\n",
      "  'recall', 'true', average, warn_for)\n",
      "C:\\ProgramData\\Anaconda3\\lib\\site-packages\\sklearn\\metrics\\classification.py:1145: UndefinedMetricWarning: Recall is ill-defined and being set to 0.0 due to no true samples.\n",
      "  'recall', 'true', average, warn_for)\n",
      "C:\\ProgramData\\Anaconda3\\lib\\site-packages\\sklearn\\metrics\\classification.py:1145: UndefinedMetricWarning: Recall is ill-defined and being set to 0.0 due to no true samples.\n",
      "  'recall', 'true', average, warn_for)\n"
     ]
    },
    {
     "name": "stdout",
     "output_type": "stream",
     "text": [
      "**** Model recall is 0.0\n",
      "*** with parameters {'criterion': 'gini', 'max_depth': 50, 'max_features': None, 'min_samples_split': 10}\n",
      "Training from 2010-01-01 to 2012-12-30 to predict the outcome from 2012-12-31 to 2015-01-01 and testing on outcomes from  2015-01-02 to 2016-12-30\n",
      "**** Model recall is 0.0\n",
      "*** with parameters {'criterion': 'gini', 'max_depth': 50, 'max_features': 'sqrt', 'min_samples_split': 2}\n",
      "Training from 2010-01-01 to 2012-12-30 to predict the outcome from 2012-12-31 to 2015-01-01 and testing on outcomes from  2015-01-02 to 2016-12-30\n",
      "**** Model recall is 0.0\n",
      "*** with parameters {'criterion': 'gini', 'max_depth': 50, 'max_features': 'sqrt', 'min_samples_split': 5}\n",
      "Training from 2010-01-01 to 2012-12-30 to predict the outcome from 2012-12-31 to 2015-01-01 and testing on outcomes from  2015-01-02 to 2016-12-30\n",
      "**** Model recall is 0.0\n",
      "*** with parameters {'criterion': 'gini', 'max_depth': 50, 'max_features': 'sqrt', 'min_samples_split': 10}\n",
      "Training from 2010-01-01 to 2012-12-30 to predict the outcome from 2012-12-31 to 2015-01-01 and testing on outcomes from  2015-01-02 to 2016-12-30\n",
      "**** Model recall is 0.0\n",
      "*** with parameters {'criterion': 'gini', 'max_depth': 50, 'max_features': 'log2', 'min_samples_split': 2}\n",
      "Training from 2010-01-01 to 2012-12-30 to predict the outcome from 2012-12-31 to 2015-01-01 and testing on outcomes from  2015-01-02 to 2016-12-30\n"
     ]
    },
    {
     "name": "stderr",
     "output_type": "stream",
     "text": [
      "C:\\ProgramData\\Anaconda3\\lib\\site-packages\\sklearn\\metrics\\classification.py:1145: UndefinedMetricWarning: Recall is ill-defined and being set to 0.0 due to no true samples.\n",
      "  'recall', 'true', average, warn_for)\n",
      "C:\\ProgramData\\Anaconda3\\lib\\site-packages\\sklearn\\metrics\\classification.py:1145: UndefinedMetricWarning: Recall is ill-defined and being set to 0.0 due to no true samples.\n",
      "  'recall', 'true', average, warn_for)\n",
      "C:\\ProgramData\\Anaconda3\\lib\\site-packages\\sklearn\\metrics\\classification.py:1145: UndefinedMetricWarning: Recall is ill-defined and being set to 0.0 due to no true samples.\n",
      "  'recall', 'true', average, warn_for)\n",
      "C:\\ProgramData\\Anaconda3\\lib\\site-packages\\sklearn\\metrics\\classification.py:1145: UndefinedMetricWarning: Recall is ill-defined and being set to 0.0 due to no true samples.\n",
      "  'recall', 'true', average, warn_for)\n",
      "C:\\ProgramData\\Anaconda3\\lib\\site-packages\\sklearn\\metrics\\classification.py:1145: UndefinedMetricWarning: Recall is ill-defined and being set to 0.0 due to no true samples.\n",
      "  'recall', 'true', average, warn_for)\n"
     ]
    },
    {
     "name": "stdout",
     "output_type": "stream",
     "text": [
      "**** Model recall is 0.0\n",
      "*** with parameters {'criterion': 'gini', 'max_depth': 50, 'max_features': 'log2', 'min_samples_split': 5}\n",
      "Training from 2010-01-01 to 2012-12-30 to predict the outcome from 2012-12-31 to 2015-01-01 and testing on outcomes from  2015-01-02 to 2016-12-30\n",
      "**** Model recall is 0.0\n",
      "*** with parameters {'criterion': 'gini', 'max_depth': 50, 'max_features': 'log2', 'min_samples_split': 10}\n",
      "Training from 2010-01-01 to 2012-12-30 to predict the outcome from 2012-12-31 to 2015-01-01 and testing on outcomes from  2015-01-02 to 2016-12-30\n",
      "**** Model recall is 0.0\n",
      "*** with parameters {'criterion': 'gini', 'max_depth': 100, 'max_features': None, 'min_samples_split': 2}\n",
      "Training from 2010-01-01 to 2012-12-30 to predict the outcome from 2012-12-31 to 2015-01-01 and testing on outcomes from  2015-01-02 to 2016-12-30\n",
      "**** Model recall is 0.0\n",
      "*** with parameters {'criterion': 'gini', 'max_depth': 100, 'max_features': None, 'min_samples_split': 5}\n",
      "Training from 2010-01-01 to 2012-12-30 to predict the outcome from 2012-12-31 to 2015-01-01 and testing on outcomes from  2015-01-02 to 2016-12-30\n",
      "**** Model recall is 0.0\n",
      "*** with parameters {'criterion': 'gini', 'max_depth': 100, 'max_features': None, 'min_samples_split': 10}\n",
      "Training from 2010-01-01 to 2012-12-30 to predict the outcome from 2012-12-31 to 2015-01-01 and testing on outcomes from  2015-01-02 to 2016-12-30\n"
     ]
    },
    {
     "name": "stderr",
     "output_type": "stream",
     "text": [
      "C:\\ProgramData\\Anaconda3\\lib\\site-packages\\sklearn\\metrics\\classification.py:1145: UndefinedMetricWarning: Recall is ill-defined and being set to 0.0 due to no true samples.\n",
      "  'recall', 'true', average, warn_for)\n",
      "C:\\ProgramData\\Anaconda3\\lib\\site-packages\\sklearn\\metrics\\classification.py:1145: UndefinedMetricWarning: Recall is ill-defined and being set to 0.0 due to no true samples.\n",
      "  'recall', 'true', average, warn_for)\n",
      "C:\\ProgramData\\Anaconda3\\lib\\site-packages\\sklearn\\metrics\\classification.py:1145: UndefinedMetricWarning: Recall is ill-defined and being set to 0.0 due to no true samples.\n",
      "  'recall', 'true', average, warn_for)\n",
      "C:\\ProgramData\\Anaconda3\\lib\\site-packages\\sklearn\\metrics\\classification.py:1145: UndefinedMetricWarning: Recall is ill-defined and being set to 0.0 due to no true samples.\n",
      "  'recall', 'true', average, warn_for)\n",
      "C:\\ProgramData\\Anaconda3\\lib\\site-packages\\sklearn\\metrics\\classification.py:1145: UndefinedMetricWarning: Recall is ill-defined and being set to 0.0 due to no true samples.\n",
      "  'recall', 'true', average, warn_for)\n",
      "C:\\ProgramData\\Anaconda3\\lib\\site-packages\\sklearn\\metrics\\classification.py:1145: UndefinedMetricWarning: Recall is ill-defined and being set to 0.0 due to no true samples.\n",
      "  'recall', 'true', average, warn_for)\n",
      "C:\\ProgramData\\Anaconda3\\lib\\site-packages\\sklearn\\metrics\\classification.py:1145: UndefinedMetricWarning: Recall is ill-defined and being set to 0.0 due to no true samples.\n",
      "  'recall', 'true', average, warn_for)\n",
      "C:\\ProgramData\\Anaconda3\\lib\\site-packages\\sklearn\\metrics\\classification.py:1145: UndefinedMetricWarning: Recall is ill-defined and being set to 0.0 due to no true samples.\n",
      "  'recall', 'true', average, warn_for)\n",
      "C:\\ProgramData\\Anaconda3\\lib\\site-packages\\sklearn\\metrics\\classification.py:1145: UndefinedMetricWarning: Recall is ill-defined and being set to 0.0 due to no true samples.\n",
      "  'recall', 'true', average, warn_for)\n",
      "C:\\ProgramData\\Anaconda3\\lib\\site-packages\\sklearn\\metrics\\classification.py:1145: UndefinedMetricWarning: Recall is ill-defined and being set to 0.0 due to no true samples.\n",
      "  'recall', 'true', average, warn_for)\n"
     ]
    },
    {
     "name": "stdout",
     "output_type": "stream",
     "text": [
      "**** Model recall is 0.0\n",
      "*** with parameters {'criterion': 'gini', 'max_depth': 100, 'max_features': 'sqrt', 'min_samples_split': 2}\n",
      "Training from 2010-01-01 to 2012-12-30 to predict the outcome from 2012-12-31 to 2015-01-01 and testing on outcomes from  2015-01-02 to 2016-12-30\n",
      "**** Model recall is 0.0\n",
      "*** with parameters {'criterion': 'gini', 'max_depth': 100, 'max_features': 'sqrt', 'min_samples_split': 5}\n",
      "Training from 2010-01-01 to 2012-12-30 to predict the outcome from 2012-12-31 to 2015-01-01 and testing on outcomes from  2015-01-02 to 2016-12-30\n",
      "**** Model recall is 0.0\n",
      "*** with parameters {'criterion': 'gini', 'max_depth': 100, 'max_features': 'sqrt', 'min_samples_split': 10}\n",
      "Training from 2010-01-01 to 2012-12-30 to predict the outcome from 2012-12-31 to 2015-01-01 and testing on outcomes from  2015-01-02 to 2016-12-30\n",
      "**** Model recall is 0.0\n",
      "*** with parameters {'criterion': 'gini', 'max_depth': 100, 'max_features': 'log2', 'min_samples_split': 2}\n",
      "Training from 2010-01-01 to 2012-12-30 to predict the outcome from 2012-12-31 to 2015-01-01 and testing on outcomes from  2015-01-02 to 2016-12-30\n",
      "**** Model recall is 0.0\n",
      "*** with parameters {'criterion': 'gini', 'max_depth': 100, 'max_features': 'log2', 'min_samples_split': 5}\n",
      "Training from 2010-01-01 to 2012-12-30 to predict the outcome from 2012-12-31 to 2015-01-01 and testing on outcomes from  2015-01-02 to 2016-12-30\n"
     ]
    },
    {
     "name": "stderr",
     "output_type": "stream",
     "text": [
      "C:\\ProgramData\\Anaconda3\\lib\\site-packages\\sklearn\\metrics\\classification.py:1145: UndefinedMetricWarning: Recall is ill-defined and being set to 0.0 due to no true samples.\n",
      "  'recall', 'true', average, warn_for)\n"
     ]
    },
    {
     "name": "stdout",
     "output_type": "stream",
     "text": [
      "**** Model recall is 0.0\n",
      "*** with parameters {'criterion': 'gini', 'max_depth': 100, 'max_features': 'log2', 'min_samples_split': 10}\n",
      "Training from 2010-01-01 to 2012-12-30 to predict the outcome from 2012-12-31 to 2015-01-01 and testing on outcomes from  2015-01-02 to 2016-12-30\n",
      "**** Model recall is 0.0\n",
      "*** with parameters {'criterion': 'entropy', 'max_depth': 1, 'max_features': None, 'min_samples_split': 2}\n",
      "Training from 2010-01-01 to 2012-12-30 to predict the outcome from 2012-12-31 to 2015-01-01 and testing on outcomes from  2015-01-02 to 2016-12-30\n",
      "**** Model recall is 0.0\n",
      "*** with parameters {'criterion': 'entropy', 'max_depth': 1, 'max_features': None, 'min_samples_split': 5}\n",
      "Training from 2010-01-01 to 2012-12-30 to predict the outcome from 2012-12-31 to 2015-01-01 and testing on outcomes from  2015-01-02 to 2016-12-30\n",
      "**** Model recall is 0.0\n",
      "*** with parameters {'criterion': 'entropy', 'max_depth': 1, 'max_features': None, 'min_samples_split': 10}\n",
      "Training from 2010-01-01 to 2012-12-30 to predict the outcome from 2012-12-31 to 2015-01-01 and testing on outcomes from  2015-01-02 to 2016-12-30\n",
      "**** Model recall is 0.0\n",
      "*** with parameters {'criterion': 'entropy', 'max_depth': 1, 'max_features': 'sqrt', 'min_samples_split': 2}\n",
      "Training from 2010-01-01 to 2012-12-30 to predict the outcome from 2012-12-31 to 2015-01-01 and testing on outcomes from  2015-01-02 to 2016-12-30\n",
      "**** Model recall is 0.0\n",
      "*** with parameters {'criterion': 'entropy', 'max_depth': 1, 'max_features': 'sqrt', 'min_samples_split': 5}\n",
      "Training from 2010-01-01 to 2012-12-30 to predict the outcome from 2012-12-31 to 2015-01-01 and testing on outcomes from  2015-01-02 to 2016-12-30\n",
      "**** Model recall is 0.0\n",
      "*** with parameters {'criterion': 'entropy', 'max_depth': 1, 'max_features': 'sqrt', 'min_samples_split': 10}\n",
      "Training from 2010-01-01 to 2012-12-30 to predict the outcome from 2012-12-31 to 2015-01-01 and testing on outcomes from  2015-01-02 to 2016-12-30\n",
      "**** Model recall is 0.0\n",
      "*** with parameters {'criterion': 'entropy', 'max_depth': 1, 'max_features': 'log2', 'min_samples_split': 2}\n",
      "Training from 2010-01-01 to 2012-12-30 to predict the outcome from 2012-12-31 to 2015-01-01 and testing on outcomes from  2015-01-02 to 2016-12-30\n",
      "**** Model recall is 0.0\n",
      "*** with parameters {'criterion': 'entropy', 'max_depth': 1, 'max_features': 'log2', 'min_samples_split': 5}\n",
      "Training from 2010-01-01 to 2012-12-30 to predict the outcome from 2012-12-31 to 2015-01-01 and testing on outcomes from  2015-01-02 to 2016-12-30\n",
      "**** Model recall is 0.0\n",
      "*** with parameters {'criterion': 'entropy', 'max_depth': 1, 'max_features': 'log2', 'min_samples_split': 10}\n",
      "Training from 2010-01-01 to 2012-12-30 to predict the outcome from 2012-12-31 to 2015-01-01 and testing on outcomes from  2015-01-02 to 2016-12-30\n",
      "**** Model recall is 0.0\n",
      "*** with parameters {'criterion': 'entropy', 'max_depth': 5, 'max_features': None, 'min_samples_split': 2}\n",
      "Training from 2010-01-01 to 2012-12-30 to predict the outcome from 2012-12-31 to 2015-01-01 and testing on outcomes from  2015-01-02 to 2016-12-30\n",
      "**** Model recall is 0.0\n",
      "*** with parameters {'criterion': 'entropy', 'max_depth': 5, 'max_features': None, 'min_samples_split': 5}\n",
      "Training from 2010-01-01 to 2012-12-30 to predict the outcome from 2012-12-31 to 2015-01-01 and testing on outcomes from  2015-01-02 to 2016-12-30\n",
      "**** Model recall is 0.0\n",
      "*** with parameters {'criterion': 'entropy', 'max_depth': 5, 'max_features': None, 'min_samples_split': 10}\n",
      "Training from 2010-01-01 to 2012-12-30 to predict the outcome from 2012-12-31 to 2015-01-01 and testing on outcomes from  2015-01-02 to 2016-12-30\n"
     ]
    },
    {
     "name": "stderr",
     "output_type": "stream",
     "text": [
      "C:\\ProgramData\\Anaconda3\\lib\\site-packages\\sklearn\\metrics\\classification.py:1145: UndefinedMetricWarning: Recall is ill-defined and being set to 0.0 due to no true samples.\n",
      "  'recall', 'true', average, warn_for)\n",
      "C:\\ProgramData\\Anaconda3\\lib\\site-packages\\sklearn\\metrics\\classification.py:1145: UndefinedMetricWarning: Recall is ill-defined and being set to 0.0 due to no true samples.\n",
      "  'recall', 'true', average, warn_for)\n",
      "C:\\ProgramData\\Anaconda3\\lib\\site-packages\\sklearn\\metrics\\classification.py:1145: UndefinedMetricWarning: Recall is ill-defined and being set to 0.0 due to no true samples.\n",
      "  'recall', 'true', average, warn_for)\n",
      "C:\\ProgramData\\Anaconda3\\lib\\site-packages\\sklearn\\metrics\\classification.py:1145: UndefinedMetricWarning: Recall is ill-defined and being set to 0.0 due to no true samples.\n",
      "  'recall', 'true', average, warn_for)\n",
      "C:\\ProgramData\\Anaconda3\\lib\\site-packages\\sklearn\\metrics\\classification.py:1145: UndefinedMetricWarning: Recall is ill-defined and being set to 0.0 due to no true samples.\n",
      "  'recall', 'true', average, warn_for)\n"
     ]
    },
    {
     "name": "stdout",
     "output_type": "stream",
     "text": [
      "**** Model recall is 0.0\n",
      "*** with parameters {'criterion': 'entropy', 'max_depth': 5, 'max_features': 'sqrt', 'min_samples_split': 2}\n",
      "Training from 2010-01-01 to 2012-12-30 to predict the outcome from 2012-12-31 to 2015-01-01 and testing on outcomes from  2015-01-02 to 2016-12-30\n",
      "**** Model recall is 0.0\n",
      "*** with parameters {'criterion': 'entropy', 'max_depth': 5, 'max_features': 'sqrt', 'min_samples_split': 5}\n",
      "Training from 2010-01-01 to 2012-12-30 to predict the outcome from 2012-12-31 to 2015-01-01 and testing on outcomes from  2015-01-02 to 2016-12-30\n",
      "**** Model recall is 0.0\n",
      "*** with parameters {'criterion': 'entropy', 'max_depth': 5, 'max_features': 'sqrt', 'min_samples_split': 10}\n",
      "Training from 2010-01-01 to 2012-12-30 to predict the outcome from 2012-12-31 to 2015-01-01 and testing on outcomes from  2015-01-02 to 2016-12-30\n",
      "**** Model recall is 0.0\n",
      "*** with parameters {'criterion': 'entropy', 'max_depth': 5, 'max_features': 'log2', 'min_samples_split': 2}\n",
      "Training from 2010-01-01 to 2012-12-30 to predict the outcome from 2012-12-31 to 2015-01-01 and testing on outcomes from  2015-01-02 to 2016-12-30\n",
      "**** Model recall is 0.0\n",
      "*** with parameters {'criterion': 'entropy', 'max_depth': 5, 'max_features': 'log2', 'min_samples_split': 5}\n",
      "Training from 2010-01-01 to 2012-12-30 to predict the outcome from 2012-12-31 to 2015-01-01 and testing on outcomes from  2015-01-02 to 2016-12-30\n",
      "**** Model recall is 0.0\n",
      "*** with parameters {'criterion': 'entropy', 'max_depth': 5, 'max_features': 'log2', 'min_samples_split': 10}\n",
      "Training from 2010-01-01 to 2012-12-30 to predict the outcome from 2012-12-31 to 2015-01-01 and testing on outcomes from  2015-01-02 to 2016-12-30\n"
     ]
    },
    {
     "name": "stderr",
     "output_type": "stream",
     "text": [
      "C:\\ProgramData\\Anaconda3\\lib\\site-packages\\sklearn\\metrics\\classification.py:1145: UndefinedMetricWarning: Recall is ill-defined and being set to 0.0 due to no true samples.\n",
      "  'recall', 'true', average, warn_for)\n",
      "C:\\ProgramData\\Anaconda3\\lib\\site-packages\\sklearn\\metrics\\classification.py:1145: UndefinedMetricWarning: Recall is ill-defined and being set to 0.0 due to no true samples.\n",
      "  'recall', 'true', average, warn_for)\n",
      "C:\\ProgramData\\Anaconda3\\lib\\site-packages\\sklearn\\metrics\\classification.py:1145: UndefinedMetricWarning: Recall is ill-defined and being set to 0.0 due to no true samples.\n",
      "  'recall', 'true', average, warn_for)\n",
      "C:\\ProgramData\\Anaconda3\\lib\\site-packages\\sklearn\\metrics\\classification.py:1145: UndefinedMetricWarning: Recall is ill-defined and being set to 0.0 due to no true samples.\n",
      "  'recall', 'true', average, warn_for)\n",
      "C:\\ProgramData\\Anaconda3\\lib\\site-packages\\sklearn\\metrics\\classification.py:1145: UndefinedMetricWarning: Recall is ill-defined and being set to 0.0 due to no true samples.\n",
      "  'recall', 'true', average, warn_for)\n",
      "C:\\ProgramData\\Anaconda3\\lib\\site-packages\\sklearn\\metrics\\classification.py:1145: UndefinedMetricWarning: Recall is ill-defined and being set to 0.0 due to no true samples.\n",
      "  'recall', 'true', average, warn_for)\n"
     ]
    },
    {
     "name": "stdout",
     "output_type": "stream",
     "text": [
      "**** Model recall is 0.0\n",
      "*** with parameters {'criterion': 'entropy', 'max_depth': 10, 'max_features': None, 'min_samples_split': 2}\n",
      "Training from 2010-01-01 to 2012-12-30 to predict the outcome from 2012-12-31 to 2015-01-01 and testing on outcomes from  2015-01-02 to 2016-12-30\n",
      "**** Model recall is 0.0\n",
      "*** with parameters {'criterion': 'entropy', 'max_depth': 10, 'max_features': None, 'min_samples_split': 5}\n",
      "Training from 2010-01-01 to 2012-12-30 to predict the outcome from 2012-12-31 to 2015-01-01 and testing on outcomes from  2015-01-02 to 2016-12-30\n",
      "**** Model recall is 0.0\n",
      "*** with parameters {'criterion': 'entropy', 'max_depth': 10, 'max_features': None, 'min_samples_split': 10}\n",
      "Training from 2010-01-01 to 2012-12-30 to predict the outcome from 2012-12-31 to 2015-01-01 and testing on outcomes from  2015-01-02 to 2016-12-30\n",
      "**** Model recall is 0.0\n",
      "*** with parameters {'criterion': 'entropy', 'max_depth': 10, 'max_features': 'sqrt', 'min_samples_split': 2}\n",
      "Training from 2010-01-01 to 2012-12-30 to predict the outcome from 2012-12-31 to 2015-01-01 and testing on outcomes from  2015-01-02 to 2016-12-30\n",
      "**** Model recall is 0.0\n",
      "*** with parameters {'criterion': 'entropy', 'max_depth': 10, 'max_features': 'sqrt', 'min_samples_split': 5}\n",
      "Training from 2010-01-01 to 2012-12-30 to predict the outcome from 2012-12-31 to 2015-01-01 and testing on outcomes from  2015-01-02 to 2016-12-30\n",
      "**** Model recall is 0.0\n",
      "*** with parameters {'criterion': 'entropy', 'max_depth': 10, 'max_features': 'sqrt', 'min_samples_split': 10}\n",
      "Training from 2010-01-01 to 2012-12-30 to predict the outcome from 2012-12-31 to 2015-01-01 and testing on outcomes from  2015-01-02 to 2016-12-30\n",
      "**** Model recall is 0.0\n",
      "*** with parameters {'criterion': 'entropy', 'max_depth': 10, 'max_features': 'log2', 'min_samples_split': 2}\n",
      "Training from 2010-01-01 to 2012-12-30 to predict the outcome from 2012-12-31 to 2015-01-01 and testing on outcomes from  2015-01-02 to 2016-12-30\n"
     ]
    },
    {
     "name": "stderr",
     "output_type": "stream",
     "text": [
      "C:\\ProgramData\\Anaconda3\\lib\\site-packages\\sklearn\\metrics\\classification.py:1145: UndefinedMetricWarning: Recall is ill-defined and being set to 0.0 due to no true samples.\n",
      "  'recall', 'true', average, warn_for)\n",
      "C:\\ProgramData\\Anaconda3\\lib\\site-packages\\sklearn\\metrics\\classification.py:1145: UndefinedMetricWarning: Recall is ill-defined and being set to 0.0 due to no true samples.\n",
      "  'recall', 'true', average, warn_for)\n",
      "C:\\ProgramData\\Anaconda3\\lib\\site-packages\\sklearn\\metrics\\classification.py:1145: UndefinedMetricWarning: Recall is ill-defined and being set to 0.0 due to no true samples.\n",
      "  'recall', 'true', average, warn_for)\n",
      "C:\\ProgramData\\Anaconda3\\lib\\site-packages\\sklearn\\metrics\\classification.py:1145: UndefinedMetricWarning: Recall is ill-defined and being set to 0.0 due to no true samples.\n",
      "  'recall', 'true', average, warn_for)\n",
      "C:\\ProgramData\\Anaconda3\\lib\\site-packages\\sklearn\\metrics\\classification.py:1145: UndefinedMetricWarning: Recall is ill-defined and being set to 0.0 due to no true samples.\n",
      "  'recall', 'true', average, warn_for)\n",
      "C:\\ProgramData\\Anaconda3\\lib\\site-packages\\sklearn\\metrics\\classification.py:1145: UndefinedMetricWarning: Recall is ill-defined and being set to 0.0 due to no true samples.\n",
      "  'recall', 'true', average, warn_for)\n",
      "C:\\ProgramData\\Anaconda3\\lib\\site-packages\\sklearn\\metrics\\classification.py:1145: UndefinedMetricWarning: Recall is ill-defined and being set to 0.0 due to no true samples.\n",
      "  'recall', 'true', average, warn_for)\n"
     ]
    },
    {
     "name": "stdout",
     "output_type": "stream",
     "text": [
      "**** Model recall is 0.0\n",
      "*** with parameters {'criterion': 'entropy', 'max_depth': 10, 'max_features': 'log2', 'min_samples_split': 5}\n",
      "Training from 2010-01-01 to 2012-12-30 to predict the outcome from 2012-12-31 to 2015-01-01 and testing on outcomes from  2015-01-02 to 2016-12-30\n",
      "**** Model recall is 0.0\n",
      "*** with parameters {'criterion': 'entropy', 'max_depth': 10, 'max_features': 'log2', 'min_samples_split': 10}\n",
      "Training from 2010-01-01 to 2012-12-30 to predict the outcome from 2012-12-31 to 2015-01-01 and testing on outcomes from  2015-01-02 to 2016-12-30\n",
      "**** Model recall is 0.0\n",
      "*** with parameters {'criterion': 'entropy', 'max_depth': 20, 'max_features': None, 'min_samples_split': 2}\n",
      "Training from 2010-01-01 to 2012-12-30 to predict the outcome from 2012-12-31 to 2015-01-01 and testing on outcomes from  2015-01-02 to 2016-12-30\n",
      "**** Model recall is 0.0\n",
      "*** with parameters {'criterion': 'entropy', 'max_depth': 20, 'max_features': None, 'min_samples_split': 5}\n",
      "Training from 2010-01-01 to 2012-12-30 to predict the outcome from 2012-12-31 to 2015-01-01 and testing on outcomes from  2015-01-02 to 2016-12-30\n",
      "**** Model recall is 0.0\n",
      "*** with parameters {'criterion': 'entropy', 'max_depth': 20, 'max_features': None, 'min_samples_split': 10}\n",
      "Training from 2010-01-01 to 2012-12-30 to predict the outcome from 2012-12-31 to 2015-01-01 and testing on outcomes from  2015-01-02 to 2016-12-30\n",
      "**** Model recall is 0.0\n",
      "*** with parameters {'criterion': 'entropy', 'max_depth': 20, 'max_features': 'sqrt', 'min_samples_split': 2}\n",
      "Training from 2010-01-01 to 2012-12-30 to predict the outcome from 2012-12-31 to 2015-01-01 and testing on outcomes from  2015-01-02 to 2016-12-30\n"
     ]
    },
    {
     "name": "stderr",
     "output_type": "stream",
     "text": [
      "C:\\ProgramData\\Anaconda3\\lib\\site-packages\\sklearn\\metrics\\classification.py:1145: UndefinedMetricWarning: Recall is ill-defined and being set to 0.0 due to no true samples.\n",
      "  'recall', 'true', average, warn_for)\n",
      "C:\\ProgramData\\Anaconda3\\lib\\site-packages\\sklearn\\metrics\\classification.py:1145: UndefinedMetricWarning: Recall is ill-defined and being set to 0.0 due to no true samples.\n",
      "  'recall', 'true', average, warn_for)\n",
      "C:\\ProgramData\\Anaconda3\\lib\\site-packages\\sklearn\\metrics\\classification.py:1145: UndefinedMetricWarning: Recall is ill-defined and being set to 0.0 due to no true samples.\n",
      "  'recall', 'true', average, warn_for)\n",
      "C:\\ProgramData\\Anaconda3\\lib\\site-packages\\sklearn\\metrics\\classification.py:1145: UndefinedMetricWarning: Recall is ill-defined and being set to 0.0 due to no true samples.\n",
      "  'recall', 'true', average, warn_for)\n",
      "C:\\ProgramData\\Anaconda3\\lib\\site-packages\\sklearn\\metrics\\classification.py:1145: UndefinedMetricWarning: Recall is ill-defined and being set to 0.0 due to no true samples.\n",
      "  'recall', 'true', average, warn_for)\n",
      "C:\\ProgramData\\Anaconda3\\lib\\site-packages\\sklearn\\metrics\\classification.py:1145: UndefinedMetricWarning: Recall is ill-defined and being set to 0.0 due to no true samples.\n",
      "  'recall', 'true', average, warn_for)\n",
      "C:\\ProgramData\\Anaconda3\\lib\\site-packages\\sklearn\\metrics\\classification.py:1145: UndefinedMetricWarning: Recall is ill-defined and being set to 0.0 due to no true samples.\n",
      "  'recall', 'true', average, warn_for)\n",
      "C:\\ProgramData\\Anaconda3\\lib\\site-packages\\sklearn\\metrics\\classification.py:1145: UndefinedMetricWarning: Recall is ill-defined and being set to 0.0 due to no true samples.\n",
      "  'recall', 'true', average, warn_for)\n"
     ]
    },
    {
     "name": "stdout",
     "output_type": "stream",
     "text": [
      "**** Model recall is 0.0\n",
      "*** with parameters {'criterion': 'entropy', 'max_depth': 20, 'max_features': 'sqrt', 'min_samples_split': 5}\n",
      "Training from 2010-01-01 to 2012-12-30 to predict the outcome from 2012-12-31 to 2015-01-01 and testing on outcomes from  2015-01-02 to 2016-12-30\n",
      "**** Model recall is 0.0\n",
      "*** with parameters {'criterion': 'entropy', 'max_depth': 20, 'max_features': 'sqrt', 'min_samples_split': 10}\n",
      "Training from 2010-01-01 to 2012-12-30 to predict the outcome from 2012-12-31 to 2015-01-01 and testing on outcomes from  2015-01-02 to 2016-12-30\n",
      "**** Model recall is 0.0\n",
      "*** with parameters {'criterion': 'entropy', 'max_depth': 20, 'max_features': 'log2', 'min_samples_split': 2}\n",
      "Training from 2010-01-01 to 2012-12-30 to predict the outcome from 2012-12-31 to 2015-01-01 and testing on outcomes from  2015-01-02 to 2016-12-30\n",
      "**** Model recall is 0.0\n",
      "*** with parameters {'criterion': 'entropy', 'max_depth': 20, 'max_features': 'log2', 'min_samples_split': 5}\n",
      "Training from 2010-01-01 to 2012-12-30 to predict the outcome from 2012-12-31 to 2015-01-01 and testing on outcomes from  2015-01-02 to 2016-12-30\n",
      "**** Model recall is 0.0\n",
      "*** with parameters {'criterion': 'entropy', 'max_depth': 20, 'max_features': 'log2', 'min_samples_split': 10}\n",
      "Training from 2010-01-01 to 2012-12-30 to predict the outcome from 2012-12-31 to 2015-01-01 and testing on outcomes from  2015-01-02 to 2016-12-30\n",
      "**** Model recall is 0.0\n",
      "*** with parameters {'criterion': 'entropy', 'max_depth': 50, 'max_features': None, 'min_samples_split': 2}\n",
      "Training from 2010-01-01 to 2012-12-30 to predict the outcome from 2012-12-31 to 2015-01-01 and testing on outcomes from  2015-01-02 to 2016-12-30\n",
      "**** Model recall is 0.0\n",
      "*** with parameters {'criterion': 'entropy', 'max_depth': 50, 'max_features': None, 'min_samples_split': 5}\n",
      "Training from 2010-01-01 to 2012-12-30 to predict the outcome from 2012-12-31 to 2015-01-01 and testing on outcomes from  2015-01-02 to 2016-12-30\n",
      "**** Model recall is 0.0\n",
      "*** with parameters {'criterion': 'entropy', 'max_depth': 50, 'max_features': None, 'min_samples_split': 10}\n",
      "Training from 2010-01-01 to 2012-12-30 to predict the outcome from 2012-12-31 to 2015-01-01 and testing on outcomes from  2015-01-02 to 2016-12-30\n"
     ]
    },
    {
     "name": "stderr",
     "output_type": "stream",
     "text": [
      "C:\\ProgramData\\Anaconda3\\lib\\site-packages\\sklearn\\metrics\\classification.py:1145: UndefinedMetricWarning: Recall is ill-defined and being set to 0.0 due to no true samples.\n",
      "  'recall', 'true', average, warn_for)\n",
      "C:\\ProgramData\\Anaconda3\\lib\\site-packages\\sklearn\\metrics\\classification.py:1145: UndefinedMetricWarning: Recall is ill-defined and being set to 0.0 due to no true samples.\n",
      "  'recall', 'true', average, warn_for)\n",
      "C:\\ProgramData\\Anaconda3\\lib\\site-packages\\sklearn\\metrics\\classification.py:1145: UndefinedMetricWarning: Recall is ill-defined and being set to 0.0 due to no true samples.\n",
      "  'recall', 'true', average, warn_for)\n",
      "C:\\ProgramData\\Anaconda3\\lib\\site-packages\\sklearn\\metrics\\classification.py:1145: UndefinedMetricWarning: Recall is ill-defined and being set to 0.0 due to no true samples.\n",
      "  'recall', 'true', average, warn_for)\n",
      "C:\\ProgramData\\Anaconda3\\lib\\site-packages\\sklearn\\metrics\\classification.py:1145: UndefinedMetricWarning: Recall is ill-defined and being set to 0.0 due to no true samples.\n",
      "  'recall', 'true', average, warn_for)\n",
      "C:\\ProgramData\\Anaconda3\\lib\\site-packages\\sklearn\\metrics\\classification.py:1145: UndefinedMetricWarning: Recall is ill-defined and being set to 0.0 due to no true samples.\n",
      "  'recall', 'true', average, warn_for)\n",
      "C:\\ProgramData\\Anaconda3\\lib\\site-packages\\sklearn\\metrics\\classification.py:1145: UndefinedMetricWarning: Recall is ill-defined and being set to 0.0 due to no true samples.\n",
      "  'recall', 'true', average, warn_for)\n",
      "C:\\ProgramData\\Anaconda3\\lib\\site-packages\\sklearn\\metrics\\classification.py:1145: UndefinedMetricWarning: Recall is ill-defined and being set to 0.0 due to no true samples.\n",
      "  'recall', 'true', average, warn_for)\n",
      "C:\\ProgramData\\Anaconda3\\lib\\site-packages\\sklearn\\metrics\\classification.py:1145: UndefinedMetricWarning: Recall is ill-defined and being set to 0.0 due to no true samples.\n",
      "  'recall', 'true', average, warn_for)\n"
     ]
    },
    {
     "name": "stdout",
     "output_type": "stream",
     "text": [
      "**** Model recall is 0.0\n",
      "*** with parameters {'criterion': 'entropy', 'max_depth': 50, 'max_features': 'sqrt', 'min_samples_split': 2}\n",
      "Training from 2010-01-01 to 2012-12-30 to predict the outcome from 2012-12-31 to 2015-01-01 and testing on outcomes from  2015-01-02 to 2016-12-30\n",
      "**** Model recall is 0.0\n",
      "*** with parameters {'criterion': 'entropy', 'max_depth': 50, 'max_features': 'sqrt', 'min_samples_split': 5}\n",
      "Training from 2010-01-01 to 2012-12-30 to predict the outcome from 2012-12-31 to 2015-01-01 and testing on outcomes from  2015-01-02 to 2016-12-30\n",
      "**** Model recall is 0.0\n",
      "*** with parameters {'criterion': 'entropy', 'max_depth': 50, 'max_features': 'sqrt', 'min_samples_split': 10}\n",
      "Training from 2010-01-01 to 2012-12-30 to predict the outcome from 2012-12-31 to 2015-01-01 and testing on outcomes from  2015-01-02 to 2016-12-30\n",
      "**** Model recall is 0.0\n",
      "*** with parameters {'criterion': 'entropy', 'max_depth': 50, 'max_features': 'log2', 'min_samples_split': 2}\n",
      "Training from 2010-01-01 to 2012-12-30 to predict the outcome from 2012-12-31 to 2015-01-01 and testing on outcomes from  2015-01-02 to 2016-12-30\n",
      "**** Model recall is 0.0\n",
      "*** with parameters {'criterion': 'entropy', 'max_depth': 50, 'max_features': 'log2', 'min_samples_split': 5}\n",
      "Training from 2010-01-01 to 2012-12-30 to predict the outcome from 2012-12-31 to 2015-01-01 and testing on outcomes from  2015-01-02 to 2016-12-30\n",
      "**** Model recall is 0.0\n",
      "*** with parameters {'criterion': 'entropy', 'max_depth': 50, 'max_features': 'log2', 'min_samples_split': 10}\n",
      "Training from 2010-01-01 to 2012-12-30 to predict the outcome from 2012-12-31 to 2015-01-01 and testing on outcomes from  2015-01-02 to 2016-12-30\n",
      "**** Model recall is 0.0\n",
      "*** with parameters {'criterion': 'entropy', 'max_depth': 100, 'max_features': None, 'min_samples_split': 2}\n",
      "Training from 2010-01-01 to 2012-12-30 to predict the outcome from 2012-12-31 to 2015-01-01 and testing on outcomes from  2015-01-02 to 2016-12-30\n",
      "**** Model recall is 0.0\n",
      "*** with parameters {'criterion': 'entropy', 'max_depth': 100, 'max_features': None, 'min_samples_split': 5}\n",
      "Training from 2010-01-01 to 2012-12-30 to predict the outcome from 2012-12-31 to 2015-01-01 and testing on outcomes from  2015-01-02 to 2016-12-30\n",
      "**** Model recall is 0.0\n",
      "*** with parameters {'criterion': 'entropy', 'max_depth': 100, 'max_features': None, 'min_samples_split': 10}\n",
      "Training from 2010-01-01 to 2012-12-30 to predict the outcome from 2012-12-31 to 2015-01-01 and testing on outcomes from  2015-01-02 to 2016-12-30\n"
     ]
    },
    {
     "name": "stderr",
     "output_type": "stream",
     "text": [
      "C:\\ProgramData\\Anaconda3\\lib\\site-packages\\sklearn\\metrics\\classification.py:1145: UndefinedMetricWarning: Recall is ill-defined and being set to 0.0 due to no true samples.\n",
      "  'recall', 'true', average, warn_for)\n",
      "C:\\ProgramData\\Anaconda3\\lib\\site-packages\\sklearn\\metrics\\classification.py:1145: UndefinedMetricWarning: Recall is ill-defined and being set to 0.0 due to no true samples.\n",
      "  'recall', 'true', average, warn_for)\n",
      "C:\\ProgramData\\Anaconda3\\lib\\site-packages\\sklearn\\metrics\\classification.py:1145: UndefinedMetricWarning: Recall is ill-defined and being set to 0.0 due to no true samples.\n",
      "  'recall', 'true', average, warn_for)\n",
      "C:\\ProgramData\\Anaconda3\\lib\\site-packages\\sklearn\\metrics\\classification.py:1145: UndefinedMetricWarning: Recall is ill-defined and being set to 0.0 due to no true samples.\n",
      "  'recall', 'true', average, warn_for)\n",
      "C:\\ProgramData\\Anaconda3\\lib\\site-packages\\sklearn\\metrics\\classification.py:1145: UndefinedMetricWarning: Recall is ill-defined and being set to 0.0 due to no true samples.\n",
      "  'recall', 'true', average, warn_for)\n",
      "C:\\ProgramData\\Anaconda3\\lib\\site-packages\\sklearn\\metrics\\classification.py:1145: UndefinedMetricWarning: Recall is ill-defined and being set to 0.0 due to no true samples.\n",
      "  'recall', 'true', average, warn_for)\n",
      "C:\\ProgramData\\Anaconda3\\lib\\site-packages\\sklearn\\metrics\\classification.py:1145: UndefinedMetricWarning: Recall is ill-defined and being set to 0.0 due to no true samples.\n",
      "  'recall', 'true', average, warn_for)\n",
      "C:\\ProgramData\\Anaconda3\\lib\\site-packages\\sklearn\\metrics\\classification.py:1145: UndefinedMetricWarning: Recall is ill-defined and being set to 0.0 due to no true samples.\n",
      "  'recall', 'true', average, warn_for)\n"
     ]
    },
    {
     "name": "stdout",
     "output_type": "stream",
     "text": [
      "**** Model recall is 0.0\n",
      "*** with parameters {'criterion': 'entropy', 'max_depth': 100, 'max_features': 'sqrt', 'min_samples_split': 2}\n",
      "Training from 2010-01-01 to 2012-12-30 to predict the outcome from 2012-12-31 to 2015-01-01 and testing on outcomes from  2015-01-02 to 2016-12-30\n",
      "**** Model recall is 0.0\n",
      "*** with parameters {'criterion': 'entropy', 'max_depth': 100, 'max_features': 'sqrt', 'min_samples_split': 5}\n",
      "Training from 2010-01-01 to 2012-12-30 to predict the outcome from 2012-12-31 to 2015-01-01 and testing on outcomes from  2015-01-02 to 2016-12-30\n",
      "**** Model recall is 0.0\n",
      "*** with parameters {'criterion': 'entropy', 'max_depth': 100, 'max_features': 'sqrt', 'min_samples_split': 10}\n",
      "Training from 2010-01-01 to 2012-12-30 to predict the outcome from 2012-12-31 to 2015-01-01 and testing on outcomes from  2015-01-02 to 2016-12-30\n",
      "**** Model recall is 0.0\n",
      "*** with parameters {'criterion': 'entropy', 'max_depth': 100, 'max_features': 'log2', 'min_samples_split': 2}\n",
      "Training from 2010-01-01 to 2012-12-30 to predict the outcome from 2012-12-31 to 2015-01-01 and testing on outcomes from  2015-01-02 to 2016-12-30\n",
      "**** Model recall is 0.0\n",
      "*** with parameters {'criterion': 'entropy', 'max_depth': 100, 'max_features': 'log2', 'min_samples_split': 5}\n",
      "Training from 2010-01-01 to 2012-12-30 to predict the outcome from 2012-12-31 to 2015-01-01 and testing on outcomes from  2015-01-02 to 2016-12-30\n",
      "**** Model recall is 0.0\n",
      "*** with parameters {'criterion': 'entropy', 'max_depth': 100, 'max_features': 'log2', 'min_samples_split': 10}\n",
      "Training from 2010-01-01 to 2012-12-30 to predict the outcome from 2012-12-31 to 2015-01-01 and testing on outcomes from  2015-01-02 to 2016-12-30\n",
      "**** Model recall is 0.0\n"
     ]
    },
    {
     "name": "stderr",
     "output_type": "stream",
     "text": [
      "C:\\ProgramData\\Anaconda3\\lib\\site-packages\\sklearn\\metrics\\classification.py:1145: UndefinedMetricWarning: Recall is ill-defined and being set to 0.0 due to no true samples.\n",
      "  'recall', 'true', average, warn_for)\n"
     ]
    }
   ],
   "source": [
    "clfrs, params = ml.set_parameters('all')\n",
    "ml.ml_loop(clfrs, params, tt, 'sustained_outcome', 'meow', None, 'moo')"
   ]
  },
  {
   "cell_type": "markdown",
   "metadata": {},
   "source": [
    "**3. Changes in scope**\n",
    "\n",
    "For our project, we will be creating two outcome variables and testing the effect of network features on both outcomes. The first outcome is whether or not a police officer is involved in the use of a firearm over the next two years. The next outcome is whether or not a police officer has a sustained investigation over the next two years. While our overarching policy goal is to determine whether or not network features have an influence on police officers using unjust force in order to inform journalistic investigation, we do not have a perfect proxy for this outcome, and therefore are using these two outcome variables to better inform the interpretation of our results."
   ]
  }
 ],
 "metadata": {
  "kernelspec": {
   "display_name": "Python 3",
   "language": "python",
   "name": "python3"
  },
  "language_info": {
   "codemirror_mode": {
    "name": "ipython",
    "version": 3
   },
   "file_extension": ".py",
   "mimetype": "text/x-python",
   "name": "python",
   "nbconvert_exporter": "python",
   "pygments_lexer": "ipython3",
   "version": "3.7.3"
  }
 },
 "nbformat": 4,
 "nbformat_minor": 2
}
