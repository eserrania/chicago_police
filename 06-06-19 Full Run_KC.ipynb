{
 "cells": [
  {
   "cell_type": "markdown",
   "metadata": {},
   "source": [
    "#  Project Progress Report\n",
    "## Andres Nigenda, Elias Serrania, Krista Chan"
   ]
  },
  {
   "cell_type": "code",
   "execution_count": 64,
   "metadata": {},
   "outputs": [
    {
     "name": "stdout",
     "output_type": "stream",
     "text": [
      "The autoreload extension is already loaded. To reload it, use:\n",
      "  %reload_ext autoreload\n"
     ]
    }
   ],
   "source": [
    "%load_ext autoreload\n",
    "%autoreload 2\n",
    "\n",
    "import read_data as rd\n",
    "import train_test as tt\n",
    "import ml_loop as ml\n",
    "import pandas as pd\n",
    "import numpy as np\n",
    "import full_pipeline as fp"
   ]
  },
  {
   "cell_type": "code",
   "execution_count": 65,
   "metadata": {},
   "outputs": [],
   "source": [
    "raw_dfs = fp.RawDfs()"
   ]
  },
  {
   "cell_type": "code",
   "execution_count": null,
   "metadata": {
    "scrolled": true
   },
   "outputs": [],
   "source": [
    "set_list = raw_dfs.create_train_tests(np.timedelta64(2,'Y'))"
   ]
  },
  {
   "cell_type": "code",
   "execution_count": null,
   "metadata": {
    "scrolled": false
   },
   "outputs": [],
   "source": [
    "for test_set in set_list:\n",
    "    test_set.add_train_features()\n",
    "    test_set.add_test_features()"
   ]
  },
  {
   "cell_type": "code",
   "execution_count": 81,
   "metadata": {},
   "outputs": [],
   "source": [
    "# Model parameters\n",
    "GRID = 'all'\n",
    "CLFRS_TO_RUN = ['RandomForest',\n",
    "                'ExtraTrees',\n",
    "                'AdaBoost',\n",
    "                'DecisionTree',\n",
    "                'GradientBoosting',\n",
    "                'Bagging',\n",
    "                'LogisticRegression']\n",
    "label_lst = ['sustained_outcome', 'firearm_outcome']\n",
    "\n",
    "# Metrics and thresholds\n",
    "METRIC_DICT = {'precision': [100, 5, 20, 50, 80],\n",
    "               'recall': [100, 5, 20, 50, 80],\n",
    "               'f1': [5],\n",
    "               'accuracy': [50]}\n",
    "METRICS = 'pop'"
   ]
  },
  {
   "cell_type": "code",
   "execution_count": null,
   "metadata": {},
   "outputs": [],
   "source": [
    "res_df = ml.classifier_loop(set_list, GRID, CLFRS_TO_RUN, METRIC_DICT, label_lst,\n",
    "                            METRICS, plot=True, save=\"loop_output.csv\")"
   ]
  }
 ],
 "metadata": {
  "kernelspec": {
   "display_name": "Python 3",
   "language": "python",
   "name": "python3"
  },
  "language_info": {
   "codemirror_mode": {
    "name": "ipython",
    "version": 3
   },
   "file_extension": ".py",
   "mimetype": "text/x-python",
   "name": "python",
   "nbconvert_exporter": "python",
   "pygments_lexer": "ipython3",
   "version": "3.7.3"
  }
 },
 "nbformat": 4,
 "nbformat_minor": 2
}
